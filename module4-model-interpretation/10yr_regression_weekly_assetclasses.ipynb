{
  "nbformat": 4,
  "nbformat_minor": 0,
  "metadata": {
    "colab": {
      "name": "10yr regression weekly assetclasses.ipynb",
      "provenance": [],
      "authorship_tag": "ABX9TyMVjlCKTxLO17y6ojXY5iqn",
      "include_colab_link": true
    },
    "kernelspec": {
      "name": "python3",
      "display_name": "Python 3"
    }
  },
  "cells": [
    {
      "cell_type": "markdown",
      "metadata": {
        "id": "view-in-github",
        "colab_type": "text"
      },
      "source": [
        "<a href=\"https://colab.research.google.com/github/drewamorbordelon/DS-Unit-2-Applied-Modeling/blob/master/module4-model-interpretation/10yr_regression_weekly_assetclasses.ipynb\" target=\"_parent\"><img src=\"https://colab.research.google.com/assets/colab-badge.svg\" alt=\"Open In Colab\"/></a>"
      ]
    },
    {
      "cell_type": "code",
      "metadata": {
        "id": "kfFB6Qj0qhPv",
        "colab_type": "code",
        "colab": {
          "base_uri": "https://localhost:8080/",
          "height": 133
        },
        "outputId": "8fc39c5f-eba0-4c5b-b988-cd437900dbb9"
      },
      "source": [
        "%matplotlib inline\n",
        "import sys\n",
        "\n",
        "!pip install category_encoders==2.*\n",
        "\n",
        "import numpy as np\n",
        "import pandas as pd\n",
        "import matplotlib.pyplot as plt\n",
        "from category_encoders import OneHotEncoder, OrdinalEncoder\n",
        "from sklearn.ensemble import RandomForestRegressor\n",
        "from sklearn.impute import SimpleImputer\n",
        "from sklearn.linear_model import LinearRegression\n",
        "from sklearn.metrics import mean_absolute_error\n",
        "from sklearn.model_selection import GridSearchCV\n",
        "from sklearn.pipeline import make_pipeline\n",
        "from sklearn.metrics import accuracy_score\n",
        "from sklearn.pipeline import make_pipeline\n",
        "from sklearn.ensemble import RandomForestClassifier\n",
        "from sklearn.preprocessing import StandardScaler\n",
        "from sklearn.tree import DecisionTreeClassifier\n",
        "from sklearn.linear_model import LogisticRegression\n",
        "from sklearn.feature_selection import SelectKBest\n",
        "    !pip install eli5\n",
        "    !pip install pandas-profiling==2.*\n",
        "    !pip install pdpbox\n",
        "    !pip install shap\n",
        "\n",
        "import warnings\n",
        "warnings.filterwarnings(action='ignore', category=FutureWarning, module='xgboost')"
      ],
      "execution_count": 32,
      "outputs": [
        {
          "output_type": "error",
          "ename": "IndentationError",
          "evalue": "ignored",
          "traceback": [
            "\u001b[0;36m  File \u001b[0;32m\"<ipython-input-32-8f694b81fb27>\"\u001b[0;36m, line \u001b[0;32m23\u001b[0m\n\u001b[0;31m    get_ipython().system('pip install eli5')\u001b[0m\n\u001b[0m    ^\u001b[0m\n\u001b[0;31mIndentationError\u001b[0m\u001b[0;31m:\u001b[0m unexpected indent\n"
          ]
        }
      ]
    },
    {
      "cell_type": "code",
      "metadata": {
        "id": "Fgxjb2N1qomb",
        "colab_type": "code",
        "colab": {}
      },
      "source": [
        "df = pd.read_csv('/content/weekly asset classes.csv', parse_dates=['date'], index_col='date')"
      ],
      "execution_count": 2,
      "outputs": []
    },
    {
      "cell_type": "code",
      "metadata": {
        "id": "A3bTYV4QxjWs",
        "colab_type": "code",
        "colab": {}
      },
      "source": [
        "df = df.iloc[14:]"
      ],
      "execution_count": 3,
      "outputs": []
    },
    {
      "cell_type": "code",
      "metadata": {
        "id": "2r1JrivbRcv0",
        "colab_type": "code",
        "colab": {
          "base_uri": "https://localhost:8080/",
          "height": 553
        },
        "outputId": "d811fc23-d50b-4c01-a37d-cce5d1280f6f"
      },
      "source": [
        "df.info()"
      ],
      "execution_count": 4,
      "outputs": [
        {
          "output_type": "stream",
          "text": [
            "<class 'pandas.core.frame.DataFrame'>\n",
            "DatetimeIndex: 1080 entries, 2000-01-09 to 2020-09-13\n",
            "Data columns (total 23 columns):\n",
            " #   Column          Non-Null Count  Dtype  \n",
            "---  ------          --------------  -----  \n",
            " 0   gold            1080 non-null   float64\n",
            " 1   rocgold         1080 non-null   float64\n",
            " 2   goldbps         1080 non-null   float64\n",
            " 3   copper          1080 non-null   float64\n",
            " 4   roccop          1080 non-null   float64\n",
            " 5   copbps          1080 non-null   float64\n",
            " 6   wti             1080 non-null   float64\n",
            " 7   rocwti          1080 non-null   float64\n",
            " 8   wtibps          1080 non-null   float64\n",
            " 9   dxy             1080 non-null   float64\n",
            " 10  rocdxy          1080 non-null   float64\n",
            " 11  dxybps          1080 non-null   float64\n",
            " 12  eur             1080 non-null   float64\n",
            " 13  roceur          1080 non-null   float64\n",
            " 14  eurbps          1080 non-null   float64\n",
            " 15  10yr            1080 non-null   float64\n",
            " 16  roc10yr         1080 non-null   float64\n",
            " 17  10yrbps         1080 non-null   float64\n",
            " 18  regime          1080 non-null   float64\n",
            " 19  10yr2yr Spread  1080 non-null   float64\n",
            " 20  Agri            1080 non-null   float64\n",
            " 21  CRB             1080 non-null   float64\n",
            " 22  VIXCLS          1080 non-null   float64\n",
            "dtypes: float64(23)\n",
            "memory usage: 202.5 KB\n"
          ],
          "name": "stdout"
        }
      ]
    },
    {
      "cell_type": "code",
      "metadata": {
        "id": "bNrYwba4RLlX",
        "colab_type": "code",
        "colab": {}
      },
      "source": [
        "# df['gold'] = df['gold'].str.strip(',').astype(float)"
      ],
      "execution_count": 5,
      "outputs": []
    },
    {
      "cell_type": "code",
      "metadata": {
        "id": "Wi32ZMLbA2qw",
        "colab_type": "code",
        "colab": {
          "base_uri": "https://localhost:8080/",
          "height": 35
        },
        "outputId": "c5ed4a53-c6f6-49ac-ba46-d8ace647d090"
      },
      "source": [
        "df.shape"
      ],
      "execution_count": 6,
      "outputs": [
        {
          "output_type": "execute_result",
          "data": {
            "text/plain": [
              "(1080, 23)"
            ]
          },
          "metadata": {
            "tags": []
          },
          "execution_count": 6
        }
      ]
    },
    {
      "cell_type": "code",
      "metadata": {
        "id": "ESkUYLAHBl6g",
        "colab_type": "code",
        "colab": {
          "base_uri": "https://localhost:8080/",
          "height": 149
        },
        "outputId": "2f86ee4c-52a7-47f2-dd2c-b68c7ec29517"
      },
      "source": [
        "df.head(1)"
      ],
      "execution_count": 7,
      "outputs": [
        {
          "output_type": "execute_result",
          "data": {
            "text/html": [
              "<div>\n",
              "<style scoped>\n",
              "    .dataframe tbody tr th:only-of-type {\n",
              "        vertical-align: middle;\n",
              "    }\n",
              "\n",
              "    .dataframe tbody tr th {\n",
              "        vertical-align: top;\n",
              "    }\n",
              "\n",
              "    .dataframe thead th {\n",
              "        text-align: right;\n",
              "    }\n",
              "</style>\n",
              "<table border=\"1\" class=\"dataframe\">\n",
              "  <thead>\n",
              "    <tr style=\"text-align: right;\">\n",
              "      <th></th>\n",
              "      <th>gold</th>\n",
              "      <th>rocgold</th>\n",
              "      <th>goldbps</th>\n",
              "      <th>copper</th>\n",
              "      <th>roccop</th>\n",
              "      <th>copbps</th>\n",
              "      <th>wti</th>\n",
              "      <th>rocwti</th>\n",
              "      <th>wtibps</th>\n",
              "      <th>dxy</th>\n",
              "      <th>rocdxy</th>\n",
              "      <th>dxybps</th>\n",
              "      <th>eur</th>\n",
              "      <th>roceur</th>\n",
              "      <th>eurbps</th>\n",
              "      <th>10yr</th>\n",
              "      <th>roc10yr</th>\n",
              "      <th>10yrbps</th>\n",
              "      <th>regime</th>\n",
              "      <th>10yr2yr Spread</th>\n",
              "      <th>Agri</th>\n",
              "      <th>CRB</th>\n",
              "      <th>VIXCLS</th>\n",
              "    </tr>\n",
              "    <tr>\n",
              "      <th>date</th>\n",
              "      <th></th>\n",
              "      <th></th>\n",
              "      <th></th>\n",
              "      <th></th>\n",
              "      <th></th>\n",
              "      <th></th>\n",
              "      <th></th>\n",
              "      <th></th>\n",
              "      <th></th>\n",
              "      <th></th>\n",
              "      <th></th>\n",
              "      <th></th>\n",
              "      <th></th>\n",
              "      <th></th>\n",
              "      <th></th>\n",
              "      <th></th>\n",
              "      <th></th>\n",
              "      <th></th>\n",
              "      <th></th>\n",
              "      <th></th>\n",
              "      <th></th>\n",
              "      <th></th>\n",
              "      <th></th>\n",
              "    </tr>\n",
              "  </thead>\n",
              "  <tbody>\n",
              "    <tr>\n",
              "      <th>2000-01-09</th>\n",
              "      <td>284.0</td>\n",
              "      <td>0.070472</td>\n",
              "      <td>-89.709637</td>\n",
              "      <td>0.855</td>\n",
              "      <td>2.888087</td>\n",
              "      <td>-515.789037</td>\n",
              "      <td>28.02</td>\n",
              "      <td>4.786836</td>\n",
              "      <td>879.000703</td>\n",
              "      <td>101.72</td>\n",
              "      <td>-0.450186</td>\n",
              "      <td>39.577117</td>\n",
              "      <td>1.0128</td>\n",
              "      <td>0.456259</td>\n",
              "      <td>-115.298211</td>\n",
              "      <td>6.52</td>\n",
              "      <td>7.236842</td>\n",
              "      <td>269.875458</td>\n",
              "      <td>3.0</td>\n",
              "      <td>0.25</td>\n",
              "      <td>76.087</td>\n",
              "      <td>162.86</td>\n",
              "      <td>21.72</td>\n",
              "    </tr>\n",
              "  </tbody>\n",
              "</table>\n",
              "</div>"
            ],
            "text/plain": [
              "             gold   rocgold    goldbps  ...    Agri     CRB  VIXCLS\n",
              "date                                    ...                        \n",
              "2000-01-09  284.0  0.070472 -89.709637  ...  76.087  162.86   21.72\n",
              "\n",
              "[1 rows x 23 columns]"
            ]
          },
          "metadata": {
            "tags": []
          },
          "execution_count": 7
        }
      ]
    },
    {
      "cell_type": "code",
      "metadata": {
        "id": "S6rHJe-CZppc",
        "colab_type": "code",
        "colab": {}
      },
      "source": [
        "def wrangle(df):\n",
        "\n",
        "  df = df.copy()\n",
        "\n",
        "  # Remove the most extreme 1 % \n",
        "  df = df[(df['gold'] >= np.percentile(df['gold'], 0.5)) &\n",
        "          (df['gold'] <= np.percentile(df['gold'], 99.5)) &\n",
        "          (df['rocgold'] >= np.percentile(df['rocgold'], 0.5)) &\n",
        "          (df['rocgold'] <= np.percentile(df['rocgold'], 99.5)) &\n",
        "          (df['goldbps'] >= np.percentile(df['goldbps'], 0.5)) &\n",
        "          (df['goldbps'] <= np.percentile(df['goldbps'], 99.5)) &\n",
        "\n",
        "          (df['copper'] >= np.percentile(df['copper'], 0.5)) &\n",
        "          (df['copper'] <= np.percentile(df['copper'], 99.5)) &\n",
        "          (df['roccop'] >= np.percentile(df['roccop'], 0.5)) &\n",
        "          (df['roccop'] <= np.percentile(df['roccop'], 99.5)) &\n",
        "          (df['copbps'] >= np.percentile(df['copbps'], 0.5)) &\n",
        "          (df['copbps'] <= np.percentile(df['copbps'], 99.5)) &\n",
        "\n",
        "          (df['wti'] >= np.percentile(df['wti'], 0.5)) &\n",
        "          (df['wti'] <= np.percentile(df['wti'], 99.5)) &\n",
        "          (df['rocwti'] >= np.percentile(df['rocwti'], 0.5)) &\n",
        "          (df['rocwti'] <= np.percentile(df['rocwti'], 99.5)) &\n",
        "          (df['wtibps'] >= np.percentile(df['wtibps'], 0.5)) &\n",
        "          (df['wtibps'] <= np.percentile(df['wtibps'], 99.5)) &\n",
        "\n",
        "          (df['dxy'] >= np.percentile(df['dxy'], 0.5)) &\n",
        "          (df['dxy'] <= np.percentile(df['dxy'], 99.5)) &\n",
        "          (df['rocdxy'] >= np.percentile(df['rocdxy'], 0.5)) &\n",
        "          (df['rocdxy'] <= np.percentile(df['rocdxy'], 99.5)) &\n",
        "          (df['dxybps'] >= np.percentile(df['dxybps'], 0.5)) &\n",
        "          (df['dxybps'] <= np.percentile(df['dxybps'], 99.5)) &\n",
        "\n",
        "          (df['eur'] >= np.percentile(df['eur'], 0.5)) &\n",
        "          (df['eur'] <= np.percentile(df['eur'], 99.5)) &\n",
        "          (df['roceur'] >= np.percentile(df['roceur'], 0.5)) &\n",
        "          (df['roceur'] <= np.percentile(df['roceur'], 99.5)) &\n",
        "          (df['eurbps'] >= np.percentile(df['eurbps'], 0.5)) &\n",
        "          (df['eurbps'] <= np.percentile(df['eurbps'], 99.5)) &\n",
        "\n",
        "          (df['10yr'] >= np.percentile(df['10yr'], 0.5)) &\n",
        "          (df['10yr'] <= np.percentile(df['10yr'], 99.5)) &\n",
        "          (df['roc10yr'] >= np.percentile(df['roc10yr'], 0.5)) &\n",
        "          (df['roc10yr'] <= np.percentile(df['roc10yr'], 99.5)) &\n",
        "          (df['10yrbps'] >= np.percentile(df['10yrbps'], 0.5)) &\n",
        "          (df['10yrbps'] <= np.percentile(df['10yrbps'], 99.5)) &\n",
        "\n",
        "          (df['10yr2yr Spread'] >= np.percentile(df['10yr2yr Spread'], 0.5)) &\n",
        "          (df['10yr2yr Spread'] <= np.percentile(df['10yr2yr Spread'], 99.5)) &\n",
        "          (df['Agri'] >= np.percentile(df['Agri'], 0.5)) &\n",
        "          (df['Agri'] <= np.percentile(df['Agri'], 99.5)) &\n",
        "          (df['CRB'] >= np.percentile(df['CRB'], 0.5)) &\n",
        "          (df['CRB'] <= np.percentile(df['CRB'], 99.5)) &\n",
        "          (df['VIXCLS'] >= np.percentile(df['VIXCLS'], 0.5)) &\n",
        "          (df['VIXCLS'] <= np.percentile(df['VIXCLS'], 99.5))]\n",
        "\n",
        "\n",
        "  # Rename columns\n",
        "  df = df.rename(columns={'gold': 'Gold', \n",
        "                          'rocgold': 'Gold ROC',\n",
        "                          'goldbps': 'Gold bps',\n",
        "                          'copper': 'Copper', \n",
        "                          'roccop': 'Copper ROC',\n",
        "                          'copbps': 'Copper bps',\n",
        "                          'wti': 'WTI',\n",
        "                          'rocwti': 'WTI ROC',\n",
        "                          'wtibps': 'WTI bps',\n",
        "                          'dxy': 'DXY',\n",
        "                          'rocdxy': 'DXY ROC',\n",
        "                          'dxybps': 'DXY bps',\n",
        "                          'eur': 'EUR',\n",
        "                          'roceur': 'EUR ROC',\n",
        "                          'eurbps': 'EUR bps',\n",
        "                          '10yr': '10yr Rate',\n",
        "                          'roc10yr': '10yr ROC',\n",
        "                          '10yrbps': '10yr bps',\n",
        "                          'regime': 'Regime'})\n",
        "  \n",
        "  # Turn Gold col into float instead of a string\n",
        "  # df['Gold'] = df['Gold'].str.strip(',').astype(float)\n",
        "  # df['Gold'] = pd.to_numeric(df['Gold'], downcast='float')\n",
        "  # Rename column `regime`\n",
        "  df['Regime'] = df['Regime'].replace(1.0, 'Regime 1')\n",
        "  df['Regime'] = df['Regime'].replace(2.0, 'Regime 2')\n",
        "  df['Regime'] = df['Regime'].replace(3.0, 'Regime 3')\n",
        "  df['Regime'] = df['Regime'].replace(4.0, 'Regime 4')\n",
        "\n",
        "  # Create CPI + or - column\n",
        "  result = [] \n",
        "  for value in df['Regime']: \n",
        "    if value == 'Regime 1': \n",
        "      result.append(\"-\") \n",
        "    elif value == 'Regime 2': \n",
        "      result.append('+') \n",
        "    elif value == 'Regime 3': \n",
        "      result.append('+') \n",
        "    else:\n",
        "      result.append('-')\n",
        "\n",
        "  df['CPI'] = result\n",
        "\n",
        "        \n",
        "  \n",
        "  # Create GDP + or - column\n",
        "  result1 = []\n",
        "  for value in df['Regime']:\n",
        "    if value == 'Regime 1': \n",
        "      result1.append('+') \n",
        "    elif value == 'Regime 2': \n",
        "      result1.append('+') \n",
        "    elif value == 'Regime 3': \n",
        "      result1.append('-') \n",
        "    else:\n",
        "      result1.append('-')\n",
        "\n",
        "  df['GDP'] = result1  \n",
        "\n",
        "  # cols to poptentially drop `droppers`\n",
        "  # droppers = ['Gold bps', 'Copper bps', 'WTI bps', 'DXY bps', 'EUR bps', 'Agri', 'CRB', 'Regime', '10yr Rate']  #'10yr bps'\n",
        "  # droppers_alt = ['Gold ROC', 'Copper ROC', 'WTI ROC', 'DXY ROC', 'EUR ROC', '10yr ROC', 'Agri', 'CRB', 'Regime']\n",
        "  \n",
        "  # Keep only some columns\n",
        "  # keep_cols = ['Gold',            #\n",
        "              # 'Copper', \n",
        "              # 'WTI', \n",
        "              # 'DXY', \n",
        "              # 'EUR',\n",
        "              # '10yr Rate',\n",
        "              # 'Regime',\n",
        "              # 'Gold bps']\n",
        "\n",
        "\n",
        "  \n",
        "  # df = df[keep_cols]\n",
        "  # df = df.drop(columns=droppers_alt)\n",
        "  # df['GDP Positive'] = (df['GDP'] == '+')\n",
        "  df = df.drop(['10yr bps','10yr ROC', '10yr2yr Spread', 'EUR bps', 'Copper bps', 'Regime', 'Gold bps', \n",
        "                'Copper ROC', 'WTI ROC', 'WTI ROC', 'WTI bps', 'EUR', 'CPI'], axis=1)  #, 'Agri', 'CRB', 'Regime'\n",
        "  # df = df[droppers]\n",
        "  return df\n"
      ],
      "execution_count": 8,
      "outputs": []
    },
    {
      "cell_type": "code",
      "metadata": {
        "id": "9B1FloDMeRPi",
        "colab_type": "code",
        "colab": {}
      },
      "source": [
        "df = wrangle(df)"
      ],
      "execution_count": 9,
      "outputs": []
    },
    {
      "cell_type": "code",
      "metadata": {
        "id": "unbgfvBtZ657",
        "colab_type": "code",
        "colab": {
          "base_uri": "https://localhost:8080/",
          "height": 374
        },
        "outputId": "4211f93e-8df4-4d23-fc04-866f278c24b0"
      },
      "source": [
        "df.info()"
      ],
      "execution_count": 10,
      "outputs": [
        {
          "output_type": "stream",
          "text": [
            "<class 'pandas.core.frame.DataFrame'>\n",
            "DatetimeIndex: 929 entries, 2000-02-20 to 2020-07-19\n",
            "Data columns (total 13 columns):\n",
            " #   Column     Non-Null Count  Dtype  \n",
            "---  ------     --------------  -----  \n",
            " 0   Gold       929 non-null    float64\n",
            " 1   Gold ROC   929 non-null    float64\n",
            " 2   Copper     929 non-null    float64\n",
            " 3   WTI        929 non-null    float64\n",
            " 4   DXY        929 non-null    float64\n",
            " 5   DXY ROC    929 non-null    float64\n",
            " 6   DXY bps    929 non-null    float64\n",
            " 7   EUR ROC    929 non-null    float64\n",
            " 8   10yr Rate  929 non-null    float64\n",
            " 9   Agri       929 non-null    float64\n",
            " 10  CRB        929 non-null    float64\n",
            " 11  VIXCLS     929 non-null    float64\n",
            " 12  GDP        929 non-null    object \n",
            "dtypes: float64(12), object(1)\n",
            "memory usage: 101.6+ KB\n"
          ],
          "name": "stdout"
        }
      ]
    },
    {
      "cell_type": "code",
      "metadata": {
        "id": "FC1nhjajakbA",
        "colab_type": "code",
        "colab": {}
      },
      "source": [
        "# mask = df['regime'] == 'Regime 3'\n",
        "# df[mask]"
      ],
      "execution_count": 11,
      "outputs": []
    },
    {
      "cell_type": "code",
      "metadata": {
        "id": "KnQ18CiZUHKj",
        "colab_type": "code",
        "colab": {}
      },
      "source": [
        "# target is the regime column\n",
        "# categorical\n",
        "target = '10yr Rate'\n",
        "\n",
        "y = df[target]\n",
        "X = df.drop(target , axis=1)"
      ],
      "execution_count": 12,
      "outputs": []
    },
    {
      "cell_type": "code",
      "metadata": {
        "id": "FZ7aLAKeUsqO",
        "colab_type": "code",
        "colab": {}
      },
      "source": [
        "cutoff1 = '2016-01-01'\n",
        "cutoff2 = '2018-07-01'\n",
        "# cutoff3 = '2020-01-01'\n",
        "mask1 = (df.index <= cutoff1)\n",
        "train = df[mask1]\n",
        "val = df[~mask1]\n",
        "\n",
        "mask1 = df.index < cutoff1\n",
        "mask2 = (df.index >= cutoff1) & (df.index < cutoff2)\n",
        "mask3 = (df.index >= cutoff2) \n",
        "\n",
        "val = df[mask2]\n",
        "test = df[mask3]"
      ],
      "execution_count": 13,
      "outputs": []
    },
    {
      "cell_type": "code",
      "metadata": {
        "id": "M6tnYD9xU40G",
        "colab_type": "code",
        "colab": {}
      },
      "source": [
        "y_train = train[target]\n",
        "X_train = train.drop([target], axis=1)\n",
        "\n",
        "y_val = val[target]\n",
        "X_val = val.drop(target, axis=1)\n",
        "\n",
        "y_test = test[target]\n",
        "X_test = test.drop(target, axis=1)"
      ],
      "execution_count": 14,
      "outputs": []
    },
    {
      "cell_type": "code",
      "metadata": {
        "id": "zOpkuYqhU7f8",
        "colab_type": "code",
        "colab": {}
      },
      "source": [
        "# assert df.shape[0] == train.shape[0] + val.shape[0]\n",
        "assert df.shape[0] == train.shape[0] + val.shape[0] + test.shape[0]"
      ],
      "execution_count": 15,
      "outputs": []
    },
    {
      "cell_type": "code",
      "metadata": {
        "id": "NSfSzZN-VB8J",
        "colab_type": "code",
        "colab": {
          "base_uri": "https://localhost:8080/",
          "height": 35
        },
        "outputId": "ea94a842-9b54-42ed-d39c-60a180d42862"
      },
      "source": [
        "# Regression --> mean absolute error\n",
        "from sklearn.metrics import mean_absolute_error\n",
        " \n",
        "print('Baseline MAE:', mean_absolute_error(y_train, [y_train.mean()]*len(y_train)))\n",
        "# print('Baseline Accuracy:', y_train.value_counts(normalize=True).max())"
      ],
      "execution_count": 16,
      "outputs": [
        {
          "output_type": "stream",
          "text": [
            "Baseline MAE: 1.0083524289066295\n"
          ],
          "name": "stdout"
        }
      ]
    },
    {
      "cell_type": "code",
      "metadata": {
        "id": "9vEVLlRvVGIx",
        "colab_type": "code",
        "colab": {}
      },
      "source": [
        "# Model 1: Linear Regression\n",
        "\n",
        "model = make_pipeline(\n",
        "    OrdinalEncoder(),   #OneHotEncoder(use_cat_names=True),\n",
        "    # SimpleImputer(strategy='mean'),\n",
        "    StandardScaler(),\n",
        "    LinearRegression()  #LinearRegression()  RandomForestRegressor(random_state=42)\n",
        ")\n",
        "\n",
        "model.fit(X_train, y_train);"
      ],
      "execution_count": 17,
      "outputs": []
    },
    {
      "cell_type": "code",
      "metadata": {
        "id": "h6UzkYjwVHSr",
        "colab_type": "code",
        "colab": {
          "base_uri": "https://localhost:8080/",
          "height": 71
        },
        "outputId": "57befc7a-0bb1-41c6-e368-830791f218f5"
      },
      "source": [
        "print('Training MAE:', mean_absolute_error(y_train, model.predict(X_train)))\n",
        "print('Validation MAE:', mean_absolute_error(y_val, model.predict(X_val)))\n",
        "print('Test MAE:', mean_absolute_error(y_test, model.predict(X_test)))"
      ],
      "execution_count": 18,
      "outputs": [
        {
          "output_type": "stream",
          "text": [
            "Training MAE: 0.31806931369186686\n",
            "Validation MAE: 0.24164468721532542\n",
            "Test MAE: 0.5258533169990883\n"
          ],
          "name": "stdout"
        }
      ]
    },
    {
      "cell_type": "code",
      "metadata": {
        "id": "TWbb7zt4-WgK",
        "colab_type": "code",
        "colab": {
          "base_uri": "https://localhost:8080/",
          "height": 231
        },
        "outputId": "d0cf50b6-9a65-4e45-e96d-9267a9ef1c0f"
      },
      "source": [
        "import numpy as np\n",
        "coefficients = np.round(model.named_steps['linearregression'].coef_, 2)\n",
        "list(zip(X_train.columns, coefficients))"
      ],
      "execution_count": 19,
      "outputs": [
        {
          "output_type": "execute_result",
          "data": {
            "text/plain": [
              "[('Gold', -1.76),\n",
              " ('Gold ROC', 0.07),\n",
              " ('Copper', 0.87),\n",
              " ('WTI', 0.17),\n",
              " ('DXY', 0.29),\n",
              " ('DXY ROC', -0.11),\n",
              " ('DXY bps', -0.02),\n",
              " ('EUR ROC', -0.13),\n",
              " ('Agri', 0.21),\n",
              " ('CRB', -0.13),\n",
              " ('VIXCLS', 0.04),\n",
              " ('GDP', 0.09)]"
            ]
          },
          "metadata": {
            "tags": []
          },
          "execution_count": 19
        }
      ]
    },
    {
      "cell_type": "code",
      "metadata": {
        "id": "Nw6V1U98VKYQ",
        "colab_type": "code",
        "colab": {}
      },
      "source": [
        "# Model 2: Random Forest\n",
        "model_f = make_pipeline(\n",
        "    OrdinalEncoder(),\n",
        "    SimpleImputer(strategy='mean'),\n",
        "    StandardScaler(),\n",
        "    RandomForestRegressor(n_jobs=-1, n_estimators=10)\n",
        ")\n",
        "\n",
        "model_f.fit(X_train, y_train);"
      ],
      "execution_count": 20,
      "outputs": []
    },
    {
      "cell_type": "code",
      "metadata": {
        "id": "wyVeFpuCX_Nm",
        "colab_type": "code",
        "colab": {
          "base_uri": "https://localhost:8080/",
          "height": 71
        },
        "outputId": "5e70b2df-d87a-4b19-ee04-a1d79e5b86c2"
      },
      "source": [
        "print('Training MAE:', mean_absolute_error(y_train, model_f.predict(X_train)))\n",
        "print('Validation MAE:', mean_absolute_error(y_val, model_f.predict(X_val)))\n",
        "print('Test MAE:', mean_absolute_error(y_test, model_f.predict(X_test)))"
      ],
      "execution_count": 21,
      "outputs": [
        {
          "output_type": "stream",
          "text": [
            "Training MAE: 0.05566063977746875\n",
            "Validation MAE: 0.4425714285714285\n",
            "Test MAE: 0.603956043956044\n"
          ],
          "name": "stdout"
        }
      ]
    },
    {
      "cell_type": "code",
      "metadata": {
        "id": "t86IQiBSYvDK",
        "colab_type": "code",
        "colab": {}
      },
      "source": [
        "# from sklearn.metrics import classification_report, plot_confusion_matrix, plot_roc_curve\n",
        "\n",
        "# # On validation data only\n",
        "# print('Random Forest')\n",
        "# print(classification_report(y_val, model.predict(X_val)))"
      ],
      "execution_count": 22,
      "outputs": []
    },
    {
      "cell_type": "code",
      "metadata": {
        "id": "WTYGx5KQYvo_",
        "colab_type": "code",
        "colab": {}
      },
      "source": [
        "from sklearn.ensemble import GradientBoostingClassifier, GradientBoostingRegressor\n",
        "from xgboost import XGBClassifier, XGBRegressor"
      ],
      "execution_count": 23,
      "outputs": []
    },
    {
      "cell_type": "code",
      "metadata": {
        "id": "Z7mSrRu9ghjZ",
        "colab_type": "code",
        "colab": {}
      },
      "source": [
        "# Model 3: Gradient Boosting Regressor\n",
        "\n",
        "model_grad = make_pipeline(\n",
        "    OrdinalEncoder(),\n",
        "    SimpleImputer(),\n",
        "    GradientBoostingRegressor(n_estimators=22)\n",
        ")\n",
        "\n",
        "model_grad.fit(X_train, y_train);"
      ],
      "execution_count": 24,
      "outputs": []
    },
    {
      "cell_type": "code",
      "metadata": {
        "id": "nfdS2aMlgoNa",
        "colab_type": "code",
        "colab": {
          "base_uri": "https://localhost:8080/",
          "height": 71
        },
        "outputId": "474d36df-2e47-4de4-d495-a67c3d10b7db"
      },
      "source": [
        "print('Training MAE:', mean_absolute_error(y_train, model_grad.predict(X_train)))\n",
        "print('Validation MAE:', mean_absolute_error(y_val, model_grad.predict(X_val)))\n",
        "print('Test MAE:', mean_absolute_error(y_test, model_grad.predict(X_test)))"
      ],
      "execution_count": 25,
      "outputs": [
        {
          "output_type": "stream",
          "text": [
            "Training MAE: 0.2067200086779529\n",
            "Validation MAE: 0.35189080176461907\n",
            "Test MAE: 0.47654284675794\n"
          ],
          "name": "stdout"
        }
      ]
    },
    {
      "cell_type": "code",
      "metadata": {
        "id": "p1qc_29hb4Hm",
        "colab_type": "code",
        "colab": {
          "base_uri": "https://localhost:8080/",
          "height": 35
        },
        "outputId": "dd40809d-a2a0-4c31-d7ee-d7b2401f37fc"
      },
      "source": [
        "# Model 4: XGB Regressor\n",
        "\n",
        "model_xgb = make_pipeline(\n",
        "    OrdinalEncoder(),\n",
        "    SimpleImputer(),\n",
        "    XGBRegressor(n_jobs=-1, n_estimators=43)\n",
        ")\n",
        "\n",
        "model_xgb.fit(X_train, y_train);"
      ],
      "execution_count": 26,
      "outputs": [
        {
          "output_type": "stream",
          "text": [
            "[14:59:10] WARNING: /workspace/src/objective/regression_obj.cu:152: reg:linear is now deprecated in favor of reg:squarederror.\n"
          ],
          "name": "stdout"
        }
      ]
    },
    {
      "cell_type": "code",
      "metadata": {
        "id": "8MmACv1odEq1",
        "colab_type": "code",
        "colab": {
          "base_uri": "https://localhost:8080/",
          "height": 71
        },
        "outputId": "646a3686-c51d-4749-bdb8-609904a24a85"
      },
      "source": [
        "print('Training MAE:', mean_absolute_error(y_train, model_xgb.predict(X_train)))\n",
        "print('Validation MAE:', mean_absolute_error(y_val, model_xgb.predict(X_val)))\n",
        "print('Test MAE:', mean_absolute_error(y_test, model_xgb.predict(X_test)))"
      ],
      "execution_count": 27,
      "outputs": [
        {
          "output_type": "stream",
          "text": [
            "Training MAE: 0.14635500267914836\n",
            "Validation MAE: 0.32577631413435737\n",
            "Test MAE: 0.45798841214441993\n"
          ],
          "name": "stdout"
        }
      ]
    },
    {
      "cell_type": "markdown",
      "metadata": {
        "id": "kv3huN0dCRbW",
        "colab_type": "text"
      },
      "source": [
        "Feature Importances"
      ]
    },
    {
      "cell_type": "code",
      "metadata": {
        "id": "YkkTkcTnD_Fr",
        "colab_type": "code",
        "colab": {
          "base_uri": "https://localhost:8080/",
          "height": 169
        },
        "outputId": "0cb654a8-2664-49ce-8645-c26d28f4dc6b"
      },
      "source": [
        "model_xgb.named_steps['xgbclassifier'].feature_importances_"
      ],
      "execution_count": 31,
      "outputs": [
        {
          "output_type": "error",
          "ename": "KeyError",
          "evalue": "ignored",
          "traceback": [
            "\u001b[0;31m---------------------------------------------------------------------------\u001b[0m",
            "\u001b[0;31mKeyError\u001b[0m                                  Traceback (most recent call last)",
            "\u001b[0;32m<ipython-input-31-cbc9e4e1fd34>\u001b[0m in \u001b[0;36m<module>\u001b[0;34m()\u001b[0m\n\u001b[0;32m----> 1\u001b[0;31m \u001b[0mmodel_xgb\u001b[0m\u001b[0;34m.\u001b[0m\u001b[0mnamed_steps\u001b[0m\u001b[0;34m[\u001b[0m\u001b[0;34m'xgbclassifier'\u001b[0m\u001b[0;34m]\u001b[0m\u001b[0;34m.\u001b[0m\u001b[0mfeature_importances_\u001b[0m\u001b[0;34m\u001b[0m\u001b[0;34m\u001b[0m\u001b[0m\n\u001b[0m",
            "\u001b[0;31mKeyError\u001b[0m: 'xgbclassifier'"
          ]
        }
      ]
    },
    {
      "cell_type": "code",
      "metadata": {
        "id": "zJ_1xi7uDFeb",
        "colab_type": "code",
        "colab": {}
      },
      "source": [
        "feature = 'Monthly Debts'\n",
        "\n",
        "isolated = pdp_isolate(\n",
        "    model=model_gb,\n",
        "    dataset=X_val,\n",
        "    model_features=X_val.columns,\n",
        "    feature=feature\n",
        ")\n",
        "\n",
        "pdp_plot(isolated, feature_name=feature);"
      ],
      "execution_count": null,
      "outputs": []
    },
    {
      "cell_type": "code",
      "metadata": {
        "id": "-hxtDLXtCWHq",
        "colab_type": "code",
        "colab": {}
      },
      "source": [
        ""
      ],
      "execution_count": null,
      "outputs": []
    },
    {
      "cell_type": "markdown",
      "metadata": {
        "id": "1TOvw-c8BX_s",
        "colab_type": "text"
      },
      "source": [
        "#PDP Plots"
      ]
    },
    {
      "cell_type": "code",
      "metadata": {
        "id": "uMC4yYSbBcCy",
        "colab_type": "code",
        "colab": {}
      },
      "source": [
        "# View Feature\n",
        "import matplotlib.pyplot as plt\n",
        "plt.rcParams['figure.dpi'] = 72"
      ],
      "execution_count": null,
      "outputs": []
    },
    {
      "cell_type": "code",
      "metadata": {
        "id": "r7YYH6NbD5ep",
        "colab_type": "code",
        "colab": {}
      },
      "source": [
        "from pdpbox.pdp import pdp_isolate, pdp_interact"
      ],
      "execution_count": null,
      "outputs": []
    },
    {
      "cell_type": "code",
      "metadata": {
        "id": "hK5tHc15dFS2",
        "colab_type": "code",
        "colab": {}
      },
      "source": [
        "feature_imp = model.named_steps['xgbclassifier'].feature_importances_\n",
        "features = X_train.columns\n",
        "\n",
        "pd.Series(feature_imp, features).sort_values(ascending=False).head(7).plot(kind='barh');"
      ],
      "execution_count": null,
      "outputs": []
    },
    {
      "cell_type": "code",
      "metadata": {
        "id": "T3lxnB6IA3yi",
        "colab_type": "code",
        "colab": {}
      },
      "source": [
        "features = ['Copper', 'DXY']\n",
        "\n",
        "interaction = pdp_interact(\n",
        "    model=model_xgb,\n",
        "    dataset=X_val,\n",
        "    model_features=X_val.columns,\n",
        "    features=features\n",
        ")"
      ],
      "execution_count": null,
      "outputs": []
    },
    {
      "cell_type": "code",
      "metadata": {
        "id": "NuwUmB86dS5T",
        "colab_type": "code",
        "colab": {}
      },
      "source": [
        ""
      ],
      "execution_count": null,
      "outputs": []
    }
  ]
}