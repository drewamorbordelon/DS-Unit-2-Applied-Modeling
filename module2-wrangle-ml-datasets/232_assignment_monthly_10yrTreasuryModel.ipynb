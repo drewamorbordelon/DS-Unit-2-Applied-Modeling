{
  "nbformat": 4,
  "nbformat_minor": 0,
  "metadata": {
    "colab": {
      "name": "232_assignment monthly_10yrTreasuryModel.ipynb",
      "provenance": [],
      "collapsed_sections": [],
      "authorship_tag": "ABX9TyPNRzGwzfZeTk0M1SYQcBnO",
      "include_colab_link": true
    },
    "kernelspec": {
      "name": "python3",
      "display_name": "Python 3"
    }
  },
  "cells": [
    {
      "cell_type": "markdown",
      "metadata": {
        "id": "view-in-github",
        "colab_type": "text"
      },
      "source": [
        "<a href=\"https://colab.research.google.com/github/drewamorbordelon/DS-Unit-2-Applied-Modeling/blob/master/module2-wrangle-ml-datasets/232_assignment_monthly_10yrTreasuryModel.ipynb\" target=\"_parent\"><img src=\"https://colab.research.google.com/assets/colab-badge.svg\" alt=\"Open In Colab\"/></a>"
      ]
    },
    {
      "cell_type": "code",
      "metadata": {
        "id": "WX7_F3-iEkBI",
        "colab_type": "code",
        "colab": {
          "base_uri": "https://localhost:8080/",
          "height": 352
        },
        "outputId": "0441d909-6647-40ab-8ada-86efdcdbff1f"
      },
      "source": [
        "%matplotlib inline\n",
        "import sys\n",
        "\n",
        "!pip install category_encoders==2.*\n",
        "\n",
        "import numpy as np\n",
        "import pandas as pd\n",
        "import matplotlib.pyplot as plt\n",
        "from category_encoders import OneHotEncoder, OrdinalEncoder\n",
        "from sklearn.ensemble import RandomForestRegressor\n",
        "from sklearn.impute import SimpleImputer\n",
        "from sklearn.linear_model import LinearRegression\n",
        "from sklearn.metrics import mean_absolute_error\n",
        "from sklearn.model_selection import GridSearchCV\n",
        "from sklearn.pipeline import make_pipeline\n",
        "from sklearn.metrics import accuracy_score\n",
        "from sklearn.pipeline import make_pipeline\n",
        "from sklearn.ensemble import RandomForestClassifier\n",
        "from sklearn.preprocessing import StandardScaler\n",
        "from sklearn.tree import DecisionTreeClassifier\n",
        "from sklearn.linear_model import LogisticRegression\n",
        "from sklearn.feature_selection import SelectKBest"
      ],
      "execution_count": null,
      "outputs": [
        {
          "output_type": "stream",
          "text": [
            "Collecting category_encoders==2.*\n",
            "\u001b[?25l  Downloading https://files.pythonhosted.org/packages/44/57/fcef41c248701ee62e8325026b90c432adea35555cbc870aff9cfba23727/category_encoders-2.2.2-py2.py3-none-any.whl (80kB)\n",
            "\r\u001b[K     |████                            | 10kB 19.1MB/s eta 0:00:01\r\u001b[K     |████████▏                       | 20kB 6.4MB/s eta 0:00:01\r\u001b[K     |████████████▏                   | 30kB 6.1MB/s eta 0:00:01\r\u001b[K     |████████████████▎               | 40kB 6.9MB/s eta 0:00:01\r\u001b[K     |████████████████████▎           | 51kB 5.9MB/s eta 0:00:01\r\u001b[K     |████████████████████████▍       | 61kB 6.8MB/s eta 0:00:01\r\u001b[K     |████████████████████████████▍   | 71kB 7.3MB/s eta 0:00:01\r\u001b[K     |████████████████████████████████| 81kB 4.3MB/s \n",
            "\u001b[?25hRequirement already satisfied: pandas>=0.21.1 in /usr/local/lib/python3.6/dist-packages (from category_encoders==2.*) (1.0.5)\n",
            "Requirement already satisfied: numpy>=1.14.0 in /usr/local/lib/python3.6/dist-packages (from category_encoders==2.*) (1.18.5)\n",
            "Requirement already satisfied: patsy>=0.5.1 in /usr/local/lib/python3.6/dist-packages (from category_encoders==2.*) (0.5.1)\n",
            "Requirement already satisfied: scikit-learn>=0.20.0 in /usr/local/lib/python3.6/dist-packages (from category_encoders==2.*) (0.22.2.post1)\n",
            "Requirement already satisfied: scipy>=1.0.0 in /usr/local/lib/python3.6/dist-packages (from category_encoders==2.*) (1.4.1)\n",
            "Requirement already satisfied: statsmodels>=0.9.0 in /usr/local/lib/python3.6/dist-packages (from category_encoders==2.*) (0.10.2)\n",
            "Requirement already satisfied: pytz>=2017.2 in /usr/local/lib/python3.6/dist-packages (from pandas>=0.21.1->category_encoders==2.*) (2018.9)\n",
            "Requirement already satisfied: python-dateutil>=2.6.1 in /usr/local/lib/python3.6/dist-packages (from pandas>=0.21.1->category_encoders==2.*) (2.8.1)\n",
            "Requirement already satisfied: six in /usr/local/lib/python3.6/dist-packages (from patsy>=0.5.1->category_encoders==2.*) (1.15.0)\n",
            "Requirement already satisfied: joblib>=0.11 in /usr/local/lib/python3.6/dist-packages (from scikit-learn>=0.20.0->category_encoders==2.*) (0.16.0)\n",
            "Installing collected packages: category-encoders\n",
            "Successfully installed category-encoders-2.2.2\n"
          ],
          "name": "stdout"
        },
        {
          "output_type": "stream",
          "text": [
            "/usr/local/lib/python3.6/dist-packages/statsmodels/tools/_testing.py:19: FutureWarning: pandas.util.testing is deprecated. Use the functions in the public API at pandas.testing instead.\n",
            "  import pandas.util.testing as tm\n"
          ],
          "name": "stderr"
        }
      ]
    },
    {
      "cell_type": "code",
      "metadata": {
        "id": "B-QU3XPoEsDu",
        "colab_type": "code",
        "colab": {}
      },
      "source": [
        "df = pd.read_csv('/content/MoM_Unit2ProjectDataFrame.csv', parse_dates=['date'], skipfooter=1, engine='python')"
      ],
      "execution_count": null,
      "outputs": []
    },
    {
      "cell_type": "code",
      "metadata": {
        "id": "q10gIRWKGsS0",
        "colab_type": "code",
        "colab": {}
      },
      "source": [
        "df['vix_basket'] = df['vix']\n",
        "df = df.iloc[217:]"
      ],
      "execution_count": null,
      "outputs": []
    },
    {
      "cell_type": "code",
      "metadata": {
        "id": "9JFLrshhLxOT",
        "colab_type": "code",
        "colab": {
          "base_uri": "https://localhost:8080/",
          "height": 244
        },
        "outputId": "1be81548-4070-4d53-f003-6a86b7abe316"
      },
      "source": [
        "df.head()"
      ],
      "execution_count": null,
      "outputs": [
        {
          "output_type": "execute_result",
          "data": {
            "text/html": [
              "<div>\n",
              "<style scoped>\n",
              "    .dataframe tbody tr th:only-of-type {\n",
              "        vertical-align: middle;\n",
              "    }\n",
              "\n",
              "    .dataframe tbody tr th {\n",
              "        vertical-align: top;\n",
              "    }\n",
              "\n",
              "    .dataframe thead th {\n",
              "        text-align: right;\n",
              "    }\n",
              "</style>\n",
              "<table border=\"1\" class=\"dataframe\">\n",
              "  <thead>\n",
              "    <tr style=\"text-align: right;\">\n",
              "      <th></th>\n",
              "      <th>date</th>\n",
              "      <th>cpi</th>\n",
              "      <th>roccpi</th>\n",
              "      <th>roccpi_bps</th>\n",
              "      <th>10y2yr</th>\n",
              "      <th>roc10_2</th>\n",
              "      <th>10y2y_bps</th>\n",
              "      <th>10y</th>\n",
              "      <th>roc10y</th>\n",
              "      <th>10y_bps</th>\n",
              "      <th>vehicle sales</th>\n",
              "      <th>roc_vs</th>\n",
              "      <th>vs_bps</th>\n",
              "      <th>pmi</th>\n",
              "      <th>roc_pmi</th>\n",
              "      <th>rocpmi_bps</th>\n",
              "      <th>crb</th>\n",
              "      <th>dxy</th>\n",
              "      <th>roc_dxy</th>\n",
              "      <th>rocdxy_bps</th>\n",
              "      <th>savings</th>\n",
              "      <th>roc_savings</th>\n",
              "      <th>rocsave_bps</th>\n",
              "      <th>con_conf</th>\n",
              "      <th>vix</th>\n",
              "      <th>vix_basket</th>\n",
              "    </tr>\n",
              "  </thead>\n",
              "  <tbody>\n",
              "    <tr>\n",
              "      <th>217</th>\n",
              "      <td>1994-02-01</td>\n",
              "      <td>154.8</td>\n",
              "      <td>2.788845</td>\n",
              "      <td>-14.253446</td>\n",
              "      <td>1.48</td>\n",
              "      <td>-29.857820</td>\n",
              "      <td>-200.393863</td>\n",
              "      <td>6.15</td>\n",
              "      <td>1.990050</td>\n",
              "      <td>1278.817182</td>\n",
              "      <td>15.520</td>\n",
              "      <td>19.669982</td>\n",
              "      <td>538.745273</td>\n",
              "      <td>65.1383</td>\n",
              "      <td>3.196743</td>\n",
              "      <td>-8.187811</td>\n",
              "      <td>118.03</td>\n",
              "      <td>94.55</td>\n",
              "      <td>0.531632</td>\n",
              "      <td>-285.361556</td>\n",
              "      <td>1226.8</td>\n",
              "      <td>3.075113</td>\n",
              "      <td>-22.816457</td>\n",
              "      <td>93.2</td>\n",
              "      <td>14.87</td>\n",
              "      <td>14.87</td>\n",
              "    </tr>\n",
              "    <tr>\n",
              "      <th>218</th>\n",
              "      <td>1994-03-01</td>\n",
              "      <td>155.3</td>\n",
              "      <td>2.984085</td>\n",
              "      <td>19.524026</td>\n",
              "      <td>1.56</td>\n",
              "      <td>-24.637681</td>\n",
              "      <td>522.013875</td>\n",
              "      <td>6.77</td>\n",
              "      <td>12.271973</td>\n",
              "      <td>1028.192371</td>\n",
              "      <td>15.301</td>\n",
              "      <td>14.820651</td>\n",
              "      <td>-484.933091</td>\n",
              "      <td>66.0163</td>\n",
              "      <td>4.852187</td>\n",
              "      <td>165.544424</td>\n",
              "      <td>118.45</td>\n",
              "      <td>93.06</td>\n",
              "      <td>1.295309</td>\n",
              "      <td>76.367648</td>\n",
              "      <td>1226.4</td>\n",
              "      <td>3.206261</td>\n",
              "      <td>13.114762</td>\n",
              "      <td>91.5</td>\n",
              "      <td>20.45</td>\n",
              "      <td>20.45</td>\n",
              "    </tr>\n",
              "    <tr>\n",
              "      <th>219</th>\n",
              "      <td>1994-04-01</td>\n",
              "      <td>155.5</td>\n",
              "      <td>2.708058</td>\n",
              "      <td>-27.602676</td>\n",
              "      <td>1.33</td>\n",
              "      <td>-40.090090</td>\n",
              "      <td>-1545.240893</td>\n",
              "      <td>7.06</td>\n",
              "      <td>16.694215</td>\n",
              "      <td>442.224141</td>\n",
              "      <td>16.013</td>\n",
              "      <td>10.229228</td>\n",
              "      <td>-459.142303</td>\n",
              "      <td>66.5980</td>\n",
              "      <td>5.159607</td>\n",
              "      <td>30.742041</td>\n",
              "      <td>122.47</td>\n",
              "      <td>92.12</td>\n",
              "      <td>2.938876</td>\n",
              "      <td>164.356726</td>\n",
              "      <td>1220.8</td>\n",
              "      <td>2.570996</td>\n",
              "      <td>-63.526457</td>\n",
              "      <td>92.6</td>\n",
              "      <td>13.77</td>\n",
              "      <td>13.77</td>\n",
              "    </tr>\n",
              "    <tr>\n",
              "      <th>220</th>\n",
              "      <td>1994-05-01</td>\n",
              "      <td>155.9</td>\n",
              "      <td>2.700922</td>\n",
              "      <td>-0.713586</td>\n",
              "      <td>1.16</td>\n",
              "      <td>-39.583333</td>\n",
              "      <td>50.675676</td>\n",
              "      <td>7.17</td>\n",
              "      <td>16.396104</td>\n",
              "      <td>-29.811098</td>\n",
              "      <td>14.577</td>\n",
              "      <td>0.399477</td>\n",
              "      <td>-982.975178</td>\n",
              "      <td>67.0655</td>\n",
              "      <td>5.971927</td>\n",
              "      <td>81.232009</td>\n",
              "      <td>130.67</td>\n",
              "      <td>92.52</td>\n",
              "      <td>3.861697</td>\n",
              "      <td>92.282150</td>\n",
              "      <td>1220.6</td>\n",
              "      <td>1.513639</td>\n",
              "      <td>-105.735708</td>\n",
              "      <td>92.8</td>\n",
              "      <td>13.03</td>\n",
              "      <td>13.03</td>\n",
              "    </tr>\n",
              "    <tr>\n",
              "      <th>221</th>\n",
              "      <td>1994-06-01</td>\n",
              "      <td>156.4</td>\n",
              "      <td>2.827087</td>\n",
              "      <td>12.616518</td>\n",
              "      <td>1.15</td>\n",
              "      <td>-35.028249</td>\n",
              "      <td>455.508475</td>\n",
              "      <td>7.34</td>\n",
              "      <td>26.551724</td>\n",
              "      <td>1015.562024</td>\n",
              "      <td>15.109</td>\n",
              "      <td>4.271912</td>\n",
              "      <td>387.243512</td>\n",
              "      <td>67.2836</td>\n",
              "      <td>6.548216</td>\n",
              "      <td>57.628823</td>\n",
              "      <td>135.20</td>\n",
              "      <td>89.62</td>\n",
              "      <td>-4.282815</td>\n",
              "      <td>-814.451269</td>\n",
              "      <td>1212.8</td>\n",
              "      <td>0.697443</td>\n",
              "      <td>-81.619668</td>\n",
              "      <td>91.2</td>\n",
              "      <td>14.97</td>\n",
              "      <td>14.97</td>\n",
              "    </tr>\n",
              "  </tbody>\n",
              "</table>\n",
              "</div>"
            ],
            "text/plain": [
              "          date    cpi    roccpi  ...  con_conf    vix  vix_basket\n",
              "217 1994-02-01  154.8  2.788845  ...      93.2  14.87       14.87\n",
              "218 1994-03-01  155.3  2.984085  ...      91.5  20.45       20.45\n",
              "219 1994-04-01  155.5  2.708058  ...      92.6  13.77       13.77\n",
              "220 1994-05-01  155.9  2.700922  ...      92.8  13.03       13.03\n",
              "221 1994-06-01  156.4  2.827087  ...      91.2  14.97       14.97\n",
              "\n",
              "[5 rows x 26 columns]"
            ]
          },
          "metadata": {
            "tags": []
          },
          "execution_count": 7
        }
      ]
    },
    {
      "cell_type": "code",
      "metadata": {
        "id": "vnyoEgDbMk39",
        "colab_type": "code",
        "colab": {
          "base_uri": "https://localhost:8080/",
          "height": 244
        },
        "outputId": "9fe8b801-bb53-412b-fb2a-137fadd7d118"
      },
      "source": [
        "df['vix_basket'].value_counts()\n",
        "df.head()"
      ],
      "execution_count": null,
      "outputs": [
        {
          "output_type": "execute_result",
          "data": {
            "text/html": [
              "<div>\n",
              "<style scoped>\n",
              "    .dataframe tbody tr th:only-of-type {\n",
              "        vertical-align: middle;\n",
              "    }\n",
              "\n",
              "    .dataframe tbody tr th {\n",
              "        vertical-align: top;\n",
              "    }\n",
              "\n",
              "    .dataframe thead th {\n",
              "        text-align: right;\n",
              "    }\n",
              "</style>\n",
              "<table border=\"1\" class=\"dataframe\">\n",
              "  <thead>\n",
              "    <tr style=\"text-align: right;\">\n",
              "      <th></th>\n",
              "      <th>date</th>\n",
              "      <th>cpi</th>\n",
              "      <th>roccpi</th>\n",
              "      <th>roccpi_bps</th>\n",
              "      <th>10y2yr</th>\n",
              "      <th>roc10_2</th>\n",
              "      <th>10y2y_bps</th>\n",
              "      <th>10y</th>\n",
              "      <th>roc10y</th>\n",
              "      <th>10y_bps</th>\n",
              "      <th>vehicle sales</th>\n",
              "      <th>roc_vs</th>\n",
              "      <th>vs_bps</th>\n",
              "      <th>pmi</th>\n",
              "      <th>roc_pmi</th>\n",
              "      <th>rocpmi_bps</th>\n",
              "      <th>crb</th>\n",
              "      <th>dxy</th>\n",
              "      <th>roc_dxy</th>\n",
              "      <th>rocdxy_bps</th>\n",
              "      <th>savings</th>\n",
              "      <th>roc_savings</th>\n",
              "      <th>rocsave_bps</th>\n",
              "      <th>con_conf</th>\n",
              "      <th>vix</th>\n",
              "      <th>vix_basket</th>\n",
              "    </tr>\n",
              "  </thead>\n",
              "  <tbody>\n",
              "    <tr>\n",
              "      <th>217</th>\n",
              "      <td>1994-02-01</td>\n",
              "      <td>154.8</td>\n",
              "      <td>2.788845</td>\n",
              "      <td>-14.253446</td>\n",
              "      <td>1.48</td>\n",
              "      <td>-29.857820</td>\n",
              "      <td>-200.393863</td>\n",
              "      <td>6.15</td>\n",
              "      <td>1.990050</td>\n",
              "      <td>1278.817182</td>\n",
              "      <td>15.520</td>\n",
              "      <td>19.669982</td>\n",
              "      <td>538.745273</td>\n",
              "      <td>65.1383</td>\n",
              "      <td>3.196743</td>\n",
              "      <td>-8.187811</td>\n",
              "      <td>118.03</td>\n",
              "      <td>94.55</td>\n",
              "      <td>0.531632</td>\n",
              "      <td>-285.361556</td>\n",
              "      <td>1226.8</td>\n",
              "      <td>3.075113</td>\n",
              "      <td>-22.816457</td>\n",
              "      <td>93.2</td>\n",
              "      <td>14.87</td>\n",
              "      <td>14.87</td>\n",
              "    </tr>\n",
              "    <tr>\n",
              "      <th>218</th>\n",
              "      <td>1994-03-01</td>\n",
              "      <td>155.3</td>\n",
              "      <td>2.984085</td>\n",
              "      <td>19.524026</td>\n",
              "      <td>1.56</td>\n",
              "      <td>-24.637681</td>\n",
              "      <td>522.013875</td>\n",
              "      <td>6.77</td>\n",
              "      <td>12.271973</td>\n",
              "      <td>1028.192371</td>\n",
              "      <td>15.301</td>\n",
              "      <td>14.820651</td>\n",
              "      <td>-484.933091</td>\n",
              "      <td>66.0163</td>\n",
              "      <td>4.852187</td>\n",
              "      <td>165.544424</td>\n",
              "      <td>118.45</td>\n",
              "      <td>93.06</td>\n",
              "      <td>1.295309</td>\n",
              "      <td>76.367648</td>\n",
              "      <td>1226.4</td>\n",
              "      <td>3.206261</td>\n",
              "      <td>13.114762</td>\n",
              "      <td>91.5</td>\n",
              "      <td>20.45</td>\n",
              "      <td>20.45</td>\n",
              "    </tr>\n",
              "    <tr>\n",
              "      <th>219</th>\n",
              "      <td>1994-04-01</td>\n",
              "      <td>155.5</td>\n",
              "      <td>2.708058</td>\n",
              "      <td>-27.602676</td>\n",
              "      <td>1.33</td>\n",
              "      <td>-40.090090</td>\n",
              "      <td>-1545.240893</td>\n",
              "      <td>7.06</td>\n",
              "      <td>16.694215</td>\n",
              "      <td>442.224141</td>\n",
              "      <td>16.013</td>\n",
              "      <td>10.229228</td>\n",
              "      <td>-459.142303</td>\n",
              "      <td>66.5980</td>\n",
              "      <td>5.159607</td>\n",
              "      <td>30.742041</td>\n",
              "      <td>122.47</td>\n",
              "      <td>92.12</td>\n",
              "      <td>2.938876</td>\n",
              "      <td>164.356726</td>\n",
              "      <td>1220.8</td>\n",
              "      <td>2.570996</td>\n",
              "      <td>-63.526457</td>\n",
              "      <td>92.6</td>\n",
              "      <td>13.77</td>\n",
              "      <td>13.77</td>\n",
              "    </tr>\n",
              "    <tr>\n",
              "      <th>220</th>\n",
              "      <td>1994-05-01</td>\n",
              "      <td>155.9</td>\n",
              "      <td>2.700922</td>\n",
              "      <td>-0.713586</td>\n",
              "      <td>1.16</td>\n",
              "      <td>-39.583333</td>\n",
              "      <td>50.675676</td>\n",
              "      <td>7.17</td>\n",
              "      <td>16.396104</td>\n",
              "      <td>-29.811098</td>\n",
              "      <td>14.577</td>\n",
              "      <td>0.399477</td>\n",
              "      <td>-982.975178</td>\n",
              "      <td>67.0655</td>\n",
              "      <td>5.971927</td>\n",
              "      <td>81.232009</td>\n",
              "      <td>130.67</td>\n",
              "      <td>92.52</td>\n",
              "      <td>3.861697</td>\n",
              "      <td>92.282150</td>\n",
              "      <td>1220.6</td>\n",
              "      <td>1.513639</td>\n",
              "      <td>-105.735708</td>\n",
              "      <td>92.8</td>\n",
              "      <td>13.03</td>\n",
              "      <td>13.03</td>\n",
              "    </tr>\n",
              "    <tr>\n",
              "      <th>221</th>\n",
              "      <td>1994-06-01</td>\n",
              "      <td>156.4</td>\n",
              "      <td>2.827087</td>\n",
              "      <td>12.616518</td>\n",
              "      <td>1.15</td>\n",
              "      <td>-35.028249</td>\n",
              "      <td>455.508475</td>\n",
              "      <td>7.34</td>\n",
              "      <td>26.551724</td>\n",
              "      <td>1015.562024</td>\n",
              "      <td>15.109</td>\n",
              "      <td>4.271912</td>\n",
              "      <td>387.243512</td>\n",
              "      <td>67.2836</td>\n",
              "      <td>6.548216</td>\n",
              "      <td>57.628823</td>\n",
              "      <td>135.20</td>\n",
              "      <td>89.62</td>\n",
              "      <td>-4.282815</td>\n",
              "      <td>-814.451269</td>\n",
              "      <td>1212.8</td>\n",
              "      <td>0.697443</td>\n",
              "      <td>-81.619668</td>\n",
              "      <td>91.2</td>\n",
              "      <td>14.97</td>\n",
              "      <td>14.97</td>\n",
              "    </tr>\n",
              "  </tbody>\n",
              "</table>\n",
              "</div>"
            ],
            "text/plain": [
              "          date    cpi    roccpi  ...  con_conf    vix  vix_basket\n",
              "217 1994-02-01  154.8  2.788845  ...      93.2  14.87       14.87\n",
              "218 1994-03-01  155.3  2.984085  ...      91.5  20.45       20.45\n",
              "219 1994-04-01  155.5  2.708058  ...      92.6  13.77       13.77\n",
              "220 1994-05-01  155.9  2.700922  ...      92.8  13.03       13.03\n",
              "221 1994-06-01  156.4  2.827087  ...      91.2  14.97       14.97\n",
              "\n",
              "[5 rows x 26 columns]"
            ]
          },
          "metadata": {
            "tags": []
          },
          "execution_count": 8
        }
      ]
    },
    {
      "cell_type": "code",
      "metadata": {
        "id": "uBpxSeZpPWvo",
        "colab_type": "code",
        "colab": {
          "base_uri": "https://localhost:8080/",
          "height": 629
        },
        "outputId": "11897e71-9134-493d-ef5a-079d8a79a2f7"
      },
      "source": [
        "df.info()"
      ],
      "execution_count": null,
      "outputs": [
        {
          "output_type": "stream",
          "text": [
            "<class 'pandas.core.frame.DataFrame'>\n",
            "RangeIndex: 318 entries, 217 to 534\n",
            "Data columns (total 26 columns):\n",
            " #   Column         Non-Null Count  Dtype         \n",
            "---  ------         --------------  -----         \n",
            " 0   date           318 non-null    datetime64[ns]\n",
            " 1   cpi            318 non-null    float64       \n",
            " 2   roccpi         318 non-null    float64       \n",
            " 3   roccpi_bps     318 non-null    float64       \n",
            " 4   10y2yr         318 non-null    float64       \n",
            " 5   roc10_2        318 non-null    float64       \n",
            " 6   10y2y_bps      318 non-null    float64       \n",
            " 7   10y            318 non-null    float64       \n",
            " 8   roc10y         318 non-null    float64       \n",
            " 9   10y_bps        318 non-null    float64       \n",
            " 10  vehicle sales  318 non-null    float64       \n",
            " 11  roc_vs         318 non-null    float64       \n",
            " 12  vs_bps         318 non-null    float64       \n",
            " 13  pmi            318 non-null    float64       \n",
            " 14  roc_pmi        318 non-null    float64       \n",
            " 15  rocpmi_bps     318 non-null    float64       \n",
            " 16  crb            318 non-null    float64       \n",
            " 17  dxy            318 non-null    float64       \n",
            " 18  roc_dxy        318 non-null    float64       \n",
            " 19  rocdxy_bps     318 non-null    float64       \n",
            " 20  savings        318 non-null    float64       \n",
            " 21  roc_savings    318 non-null    float64       \n",
            " 22  rocsave_bps    318 non-null    float64       \n",
            " 23  con_conf       318 non-null    float64       \n",
            " 24  vix            318 non-null    float64       \n",
            " 25  vix_basket     318 non-null    float64       \n",
            "dtypes: datetime64[ns](1), float64(25)\n",
            "memory usage: 64.7 KB\n"
          ],
          "name": "stdout"
        }
      ]
    },
    {
      "cell_type": "markdown",
      "metadata": {
        "id": "LvbDjpqPFHFS",
        "colab_type": "text"
      },
      "source": [
        "#Wrangle Function"
      ]
    },
    {
      "cell_type": "code",
      "metadata": {
        "id": "Ucr90wIUFCqk",
        "colab_type": "code",
        "colab": {}
      },
      "source": [
        "def wrangle (df):\n",
        "\n",
        "  df = df.copy()\n",
        "  \n",
        "  # NEW FEATURES = Creating baskets for VIX levels\n",
        "  # create baskets for VIX\n",
        "  # >= 30\n",
        "  # 30-18\n",
        "  # < 18\n",
        "\n",
        "  # Creating a new column with categories\n",
        "  defensive = (df['vix_basket'] >= 30.00)\n",
        "  tradable = (df['vix_basket'] < 30.00) & (df['vix_basket'] >= 16.00)\n",
        "  investable = (df['vix_basket'] < 16.00)\n",
        "  # unknown = (df['vix_basket'] < 30.00) & (df['vix_basket'] > 27.00) & (df['vix_basket'] < 18.00) & (df(['vix_basket'] >= 15.00)\n",
        "\n",
        "  # NEW Category Features\n",
        "  df.loc[defensive, 'vix_basket'] = 'defensive'\n",
        "  df.loc[tradable, 'vix_basket'] = 'tradable'\n",
        "  df.loc[investable, 'vix_basket'] = 'investable'\n",
        "  # df.loc[unknown, 'vix_basket'] = 'unknown'\n",
        "\n",
        "  # NEW FEATURES = Creating conditional statement for the `Regime`\n",
        "  condition1 = (df['roccpi_bps'] < 0.00)\n",
        "  regime1 = df[condition1]\n",
        "  regime1_date = regime1[['date']]\n",
        "  regime1_date['regime'] = 'regime 1,3'\n",
        "\n",
        "  condition2 = (df['roccpi_bps'] > 0.00)\n",
        "  regime2 = df[condition2]\n",
        "  regime2_date = regime2[['date']]\n",
        "  regime2_date['regime'] = 'regime 2,4'\n",
        "\n",
        "  by_row_1 = pd.concat([regime1_date, regime2_date])\n",
        "  df = pd.merge(df, by_row_1, on='date', how='inner')\n",
        "\n",
        "  # Drop recorded_by (never varies) and id (always varies, random)\n",
        "  # unusable_variance = ['10y2yr', 'roc10_2', '10y2y_bps', 'roc10y', '10y_bps']\n",
        "\n",
        "  # df = df.drop(columns=unusable_variance,  axis=1)  #'cpi', 'gdp', 'rocgdp_bps', 'rocgdp', 'roccpi_bps', 'roccpi','vehicle_sales', 'conjob_claims', 'Indust Prod Index', 'm2vel',, '10y2yr', '10y', 'wti','dxy'\n",
        "  \n",
        "  return df"
      ],
      "execution_count": null,
      "outputs": []
    },
    {
      "cell_type": "code",
      "metadata": {
        "id": "VIFOw0peIF4d",
        "colab_type": "code",
        "colab": {
          "base_uri": "https://localhost:8080/",
          "height": 222
        },
        "outputId": "748b452c-b1eb-4660-a6d6-cf6f3f16d3ab"
      },
      "source": [
        "df = wrangle(df).sort_index()"
      ],
      "execution_count": null,
      "outputs": [
        {
          "output_type": "stream",
          "text": [
            "/usr/local/lib/python3.6/dist-packages/ipykernel_launcher.py:27: SettingWithCopyWarning: \n",
            "A value is trying to be set on a copy of a slice from a DataFrame.\n",
            "Try using .loc[row_indexer,col_indexer] = value instead\n",
            "\n",
            "See the caveats in the documentation: https://pandas.pydata.org/pandas-docs/stable/user_guide/indexing.html#returning-a-view-versus-a-copy\n",
            "/usr/local/lib/python3.6/dist-packages/ipykernel_launcher.py:32: SettingWithCopyWarning: \n",
            "A value is trying to be set on a copy of a slice from a DataFrame.\n",
            "Try using .loc[row_indexer,col_indexer] = value instead\n",
            "\n",
            "See the caveats in the documentation: https://pandas.pydata.org/pandas-docs/stable/user_guide/indexing.html#returning-a-view-versus-a-copy\n"
          ],
          "name": "stderr"
        }
      ]
    },
    {
      "cell_type": "code",
      "metadata": {
        "id": "CfKRQqSaU4h1",
        "colab_type": "code",
        "colab": {
          "base_uri": "https://localhost:8080/",
          "height": 330
        },
        "outputId": "b19ef6ac-c1bb-4e8e-b275-713c80931ff7"
      },
      "source": [
        "df.tail()"
      ],
      "execution_count": null,
      "outputs": [
        {
          "output_type": "execute_result",
          "data": {
            "text/html": [
              "<div>\n",
              "<style scoped>\n",
              "    .dataframe tbody tr th:only-of-type {\n",
              "        vertical-align: middle;\n",
              "    }\n",
              "\n",
              "    .dataframe tbody tr th {\n",
              "        vertical-align: top;\n",
              "    }\n",
              "\n",
              "    .dataframe thead th {\n",
              "        text-align: right;\n",
              "    }\n",
              "</style>\n",
              "<table border=\"1\" class=\"dataframe\">\n",
              "  <thead>\n",
              "    <tr style=\"text-align: right;\">\n",
              "      <th></th>\n",
              "      <th>date</th>\n",
              "      <th>cpi</th>\n",
              "      <th>roccpi</th>\n",
              "      <th>roccpi_bps</th>\n",
              "      <th>10y</th>\n",
              "      <th>vehicle sales</th>\n",
              "      <th>roc_vs</th>\n",
              "      <th>vs_bps</th>\n",
              "      <th>pmi</th>\n",
              "      <th>roc_pmi</th>\n",
              "      <th>rocpmi_bps</th>\n",
              "      <th>crb</th>\n",
              "      <th>dxy</th>\n",
              "      <th>roc_dxy</th>\n",
              "      <th>rocdxy_bps</th>\n",
              "      <th>savings</th>\n",
              "      <th>roc_savings</th>\n",
              "      <th>rocsave_bps</th>\n",
              "      <th>con_conf</th>\n",
              "      <th>vix</th>\n",
              "      <th>vix_basket</th>\n",
              "      <th>regime</th>\n",
              "    </tr>\n",
              "  </thead>\n",
              "  <tbody>\n",
              "    <tr>\n",
              "      <th>313</th>\n",
              "      <td>2020-03-01</td>\n",
              "      <td>266.795</td>\n",
              "      <td>2.096304</td>\n",
              "      <td>-26.937099</td>\n",
              "      <td>0.70</td>\n",
              "      <td>11.809</td>\n",
              "      <td>-33.768929</td>\n",
              "      <td>-3444.737069</td>\n",
              "      <td>100.8026</td>\n",
              "      <td>-5.172839</td>\n",
              "      <td>-496.864463</td>\n",
              "      <td>121.79</td>\n",
              "      <td>99.05</td>\n",
              "      <td>1.819490</td>\n",
              "      <td>-22.917875</td>\n",
              "      <td>10462.7</td>\n",
              "      <td>12.094752</td>\n",
              "      <td>504.760654</td>\n",
              "      <td>89.1</td>\n",
              "      <td>53.54</td>\n",
              "      <td>defensive</td>\n",
              "      <td>regime 1,3</td>\n",
              "    </tr>\n",
              "    <tr>\n",
              "      <th>314</th>\n",
              "      <td>2020-04-01</td>\n",
              "      <td>265.601</td>\n",
              "      <td>1.438310</td>\n",
              "      <td>-65.799410</td>\n",
              "      <td>0.64</td>\n",
              "      <td>9.089</td>\n",
              "      <td>-47.018362</td>\n",
              "      <td>-1324.943322</td>\n",
              "      <td>84.5913</td>\n",
              "      <td>-19.722568</td>\n",
              "      <td>-1454.972961</td>\n",
              "      <td>117.20</td>\n",
              "      <td>99.57</td>\n",
              "      <td>2.144030</td>\n",
              "      <td>32.453941</td>\n",
              "      <td>10908.7</td>\n",
              "      <td>17.299111</td>\n",
              "      <td>520.435834</td>\n",
              "      <td>71.8</td>\n",
              "      <td>34.15</td>\n",
              "      <td>defensive</td>\n",
              "      <td>regime 1,3</td>\n",
              "    </tr>\n",
              "    <tr>\n",
              "      <th>315</th>\n",
              "      <td>2020-05-01</td>\n",
              "      <td>265.441</td>\n",
              "      <td>1.236465</td>\n",
              "      <td>-20.184495</td>\n",
              "      <td>0.65</td>\n",
              "      <td>12.440</td>\n",
              "      <td>-30.354943</td>\n",
              "      <td>1666.341854</td>\n",
              "      <td>87.8986</td>\n",
              "      <td>-16.685845</td>\n",
              "      <td>303.672364</td>\n",
              "      <td>132.24</td>\n",
              "      <td>98.34</td>\n",
              "      <td>0.603581</td>\n",
              "      <td>-154.044898</td>\n",
              "      <td>11269.8</td>\n",
              "      <td>19.939976</td>\n",
              "      <td>264.086499</td>\n",
              "      <td>72.3</td>\n",
              "      <td>27.51</td>\n",
              "      <td>tradable</td>\n",
              "      <td>regime 1,3</td>\n",
              "    </tr>\n",
              "    <tr>\n",
              "      <th>316</th>\n",
              "      <td>2020-06-01</td>\n",
              "      <td>266.065</td>\n",
              "      <td>1.194257</td>\n",
              "      <td>-4.220852</td>\n",
              "      <td>0.66</td>\n",
              "      <td>13.359</td>\n",
              "      <td>-24.695603</td>\n",
              "      <td>565.934030</td>\n",
              "      <td>94.6167</td>\n",
              "      <td>-10.821074</td>\n",
              "      <td>586.477053</td>\n",
              "      <td>137.97</td>\n",
              "      <td>97.39</td>\n",
              "      <td>1.310725</td>\n",
              "      <td>70.714450</td>\n",
              "      <td>11386.8</td>\n",
              "      <td>20.346238</td>\n",
              "      <td>40.626226</td>\n",
              "      <td>78.1</td>\n",
              "      <td>30.43</td>\n",
              "      <td>defensive</td>\n",
              "      <td>regime 1,3</td>\n",
              "    </tr>\n",
              "    <tr>\n",
              "      <th>317</th>\n",
              "      <td>2020-07-01</td>\n",
              "      <td>267.715</td>\n",
              "      <td>1.566086</td>\n",
              "      <td>37.182942</td>\n",
              "      <td>0.55</td>\n",
              "      <td>15.006</td>\n",
              "      <td>-14.383523</td>\n",
              "      <td>1031.208059</td>\n",
              "      <td>98.3754</td>\n",
              "      <td>-6.918340</td>\n",
              "      <td>390.273402</td>\n",
              "      <td>143.69</td>\n",
              "      <td>93.35</td>\n",
              "      <td>-5.247665</td>\n",
              "      <td>-655.839051</td>\n",
              "      <td>11425.1</td>\n",
              "      <td>20.247756</td>\n",
              "      <td>-9.848242</td>\n",
              "      <td>72.5</td>\n",
              "      <td>24.46</td>\n",
              "      <td>tradable</td>\n",
              "      <td>regime 2,4</td>\n",
              "    </tr>\n",
              "  </tbody>\n",
              "</table>\n",
              "</div>"
            ],
            "text/plain": [
              "          date      cpi    roccpi  ...    vix  vix_basket      regime\n",
              "313 2020-03-01  266.795  2.096304  ...  53.54   defensive  regime 1,3\n",
              "314 2020-04-01  265.601  1.438310  ...  34.15   defensive  regime 1,3\n",
              "315 2020-05-01  265.441  1.236465  ...  27.51    tradable  regime 1,3\n",
              "316 2020-06-01  266.065  1.194257  ...  30.43   defensive  regime 1,3\n",
              "317 2020-07-01  267.715  1.566086  ...  24.46    tradable  regime 2,4\n",
              "\n",
              "[5 rows x 22 columns]"
            ]
          },
          "metadata": {
            "tags": []
          },
          "execution_count": 12
        }
      ]
    },
    {
      "cell_type": "code",
      "metadata": {
        "id": "v-7ArV9qJSoo",
        "colab_type": "code",
        "colab": {
          "base_uri": "https://localhost:8080/",
          "height": 554
        },
        "outputId": "f4cc465b-0927-4cab-bf5b-fb0d800bf4f0"
      },
      "source": [
        "df.info()"
      ],
      "execution_count": null,
      "outputs": [
        {
          "output_type": "stream",
          "text": [
            "<class 'pandas.core.frame.DataFrame'>\n",
            "Int64Index: 318 entries, 0 to 317\n",
            "Data columns (total 22 columns):\n",
            " #   Column         Non-Null Count  Dtype         \n",
            "---  ------         --------------  -----         \n",
            " 0   date           318 non-null    datetime64[ns]\n",
            " 1   cpi            318 non-null    float64       \n",
            " 2   roccpi         318 non-null    float64       \n",
            " 3   roccpi_bps     318 non-null    float64       \n",
            " 4   10y            318 non-null    float64       \n",
            " 5   vehicle sales  318 non-null    float64       \n",
            " 6   roc_vs         318 non-null    float64       \n",
            " 7   vs_bps         318 non-null    float64       \n",
            " 8   pmi            318 non-null    float64       \n",
            " 9   roc_pmi        318 non-null    float64       \n",
            " 10  rocpmi_bps     318 non-null    float64       \n",
            " 11  crb            318 non-null    float64       \n",
            " 12  dxy            318 non-null    float64       \n",
            " 13  roc_dxy        318 non-null    float64       \n",
            " 14  rocdxy_bps     318 non-null    float64       \n",
            " 15  savings        318 non-null    float64       \n",
            " 16  roc_savings    318 non-null    float64       \n",
            " 17  rocsave_bps    318 non-null    float64       \n",
            " 18  con_conf       318 non-null    float64       \n",
            " 19  vix            318 non-null    float64       \n",
            " 20  vix_basket     318 non-null    object        \n",
            " 21  regime         318 non-null    object        \n",
            "dtypes: datetime64[ns](1), float64(19), object(2)\n",
            "memory usage: 57.1+ KB\n"
          ],
          "name": "stdout"
        }
      ]
    },
    {
      "cell_type": "code",
      "metadata": {
        "id": "M0MlprioxzMk",
        "colab_type": "code",
        "colab": {}
      },
      "source": [
        "# Set `date` as index\n",
        "df = df.set_index('date')"
      ],
      "execution_count": null,
      "outputs": []
    },
    {
      "cell_type": "markdown",
      "metadata": {
        "id": "MTf-dAtIVYqa",
        "colab_type": "text"
      },
      "source": [
        "#Split TV from FM"
      ]
    },
    {
      "cell_type": "code",
      "metadata": {
        "id": "mPAtMToxVUym",
        "colab_type": "code",
        "colab": {}
      },
      "source": [
        "# target is the regime column\n",
        "# categorical\n",
        "target = '10y'\n",
        "y = df[target]\n",
        "X = df.drop(target , axis=1)"
      ],
      "execution_count": null,
      "outputs": []
    },
    {
      "cell_type": "code",
      "metadata": {
        "id": "FzEkXV1IVe0x",
        "colab_type": "code",
        "colab": {}
      },
      "source": [
        "cutoff1 = '2018-01-01'\n",
        "# cutoff2 = '2010-01-01'\n",
        "# mask1 = df.index < cutoff2\n",
        "mask1 = (df.index <= cutoff1)\n",
        "# mask2 = (df.index >= cutoff1) & (df.index < cutoff2)\n",
        "# mask3 = df.index >= cutoff2\n",
        "train = df[mask1]\n",
        "val = df[~mask1]\n",
        "# val = df[mask2]\n",
        "# test = df[mask3]"
      ],
      "execution_count": null,
      "outputs": []
    },
    {
      "cell_type": "code",
      "metadata": {
        "id": "nZiquQD7eAkY",
        "colab_type": "code",
        "colab": {}
      },
      "source": [
        "y_train = train[target]\n",
        "X_train = train.drop([target], axis=1)\n",
        "\n",
        "y_val = val[target]\n",
        "X_val = val.drop(target, axis=1)\n",
        "\n",
        "# y_test = test[target]\n",
        "# X_test = test.drop(target, axis=1)"
      ],
      "execution_count": null,
      "outputs": []
    },
    {
      "cell_type": "markdown",
      "metadata": {
        "id": "_2rQ7m7heGZ-",
        "colab_type": "text"
      },
      "source": [
        "###Test with assert"
      ]
    },
    {
      "cell_type": "code",
      "metadata": {
        "id": "mg6i2YqkeBbs",
        "colab_type": "code",
        "colab": {}
      },
      "source": [
        "assert df.shape[0] == train.shape[0] + val.shape[0]\n",
        "# assert df.shape[0] == train.shape[0] + val.shape[0] + test.shape[0]"
      ],
      "execution_count": null,
      "outputs": []
    },
    {
      "cell_type": "code",
      "metadata": {
        "id": "EewgiwWVe3Zj",
        "colab_type": "code",
        "colab": {
          "base_uri": "https://localhost:8080/",
          "height": 54
        },
        "outputId": "c46b010f-5e75-48b6-ebe5-e876ec698590"
      },
      "source": [
        "print(train.shape)\n",
        "print(val.shape)\n",
        "# print(test.shape)"
      ],
      "execution_count": null,
      "outputs": [
        {
          "output_type": "stream",
          "text": [
            "(288, 21)\n",
            "(30, 21)\n"
          ],
          "name": "stdout"
        }
      ]
    },
    {
      "cell_type": "code",
      "metadata": {
        "id": "R14Jh_hQtfeR",
        "colab_type": "code",
        "colab": {
          "base_uri": "https://localhost:8080/",
          "height": 536
        },
        "outputId": "0090073f-18aa-4b37-e836-0b1f98efb636"
      },
      "source": [
        "train.info()"
      ],
      "execution_count": null,
      "outputs": [
        {
          "output_type": "stream",
          "text": [
            "<class 'pandas.core.frame.DataFrame'>\n",
            "DatetimeIndex: 288 entries, 1994-02-01 to 2018-01-01\n",
            "Data columns (total 21 columns):\n",
            " #   Column         Non-Null Count  Dtype  \n",
            "---  ------         --------------  -----  \n",
            " 0   cpi            288 non-null    float64\n",
            " 1   roccpi         288 non-null    float64\n",
            " 2   roccpi_bps     288 non-null    float64\n",
            " 3   10y            288 non-null    float64\n",
            " 4   vehicle sales  288 non-null    float64\n",
            " 5   roc_vs         288 non-null    float64\n",
            " 6   vs_bps         288 non-null    float64\n",
            " 7   pmi            288 non-null    float64\n",
            " 8   roc_pmi        288 non-null    float64\n",
            " 9   rocpmi_bps     288 non-null    float64\n",
            " 10  crb            288 non-null    float64\n",
            " 11  dxy            288 non-null    float64\n",
            " 12  roc_dxy        288 non-null    float64\n",
            " 13  rocdxy_bps     288 non-null    float64\n",
            " 14  savings        288 non-null    float64\n",
            " 15  roc_savings    288 non-null    float64\n",
            " 16  rocsave_bps    288 non-null    float64\n",
            " 17  con_conf       288 non-null    float64\n",
            " 18  vix            288 non-null    float64\n",
            " 19  vix_basket     288 non-null    object \n",
            " 20  regime         288 non-null    object \n",
            "dtypes: float64(19), object(2)\n",
            "memory usage: 49.5+ KB\n"
          ],
          "name": "stdout"
        }
      ]
    },
    {
      "cell_type": "code",
      "metadata": {
        "id": "61l3Cd6moLKc",
        "colab_type": "code",
        "colab": {
          "base_uri": "https://localhost:8080/",
          "height": 536
        },
        "outputId": "1193e608-2967-4b2d-a786-3d5971f490ad"
      },
      "source": [
        "val.info()"
      ],
      "execution_count": null,
      "outputs": [
        {
          "output_type": "stream",
          "text": [
            "<class 'pandas.core.frame.DataFrame'>\n",
            "DatetimeIndex: 30 entries, 2018-02-01 to 2020-07-01\n",
            "Data columns (total 21 columns):\n",
            " #   Column         Non-Null Count  Dtype  \n",
            "---  ------         --------------  -----  \n",
            " 0   cpi            30 non-null     float64\n",
            " 1   roccpi         30 non-null     float64\n",
            " 2   roccpi_bps     30 non-null     float64\n",
            " 3   10y            30 non-null     float64\n",
            " 4   vehicle sales  30 non-null     float64\n",
            " 5   roc_vs         30 non-null     float64\n",
            " 6   vs_bps         30 non-null     float64\n",
            " 7   pmi            30 non-null     float64\n",
            " 8   roc_pmi        30 non-null     float64\n",
            " 9   rocpmi_bps     30 non-null     float64\n",
            " 10  crb            30 non-null     float64\n",
            " 11  dxy            30 non-null     float64\n",
            " 12  roc_dxy        30 non-null     float64\n",
            " 13  rocdxy_bps     30 non-null     float64\n",
            " 14  savings        30 non-null     float64\n",
            " 15  roc_savings    30 non-null     float64\n",
            " 16  rocsave_bps    30 non-null     float64\n",
            " 17  con_conf       30 non-null     float64\n",
            " 18  vix            30 non-null     float64\n",
            " 19  vix_basket     30 non-null     object \n",
            " 20  regime         30 non-null     object \n",
            "dtypes: float64(19), object(2)\n",
            "memory usage: 5.2+ KB\n"
          ],
          "name": "stdout"
        }
      ]
    },
    {
      "cell_type": "markdown",
      "metadata": {
        "id": "pDjusrtxfBo0",
        "colab_type": "text"
      },
      "source": [
        "#Establish Baseline"
      ]
    },
    {
      "cell_type": "code",
      "metadata": {
        "id": "UBo5D3toe9R5",
        "colab_type": "code",
        "colab": {
          "base_uri": "https://localhost:8080/",
          "height": 54
        },
        "outputId": "51a07143-16c3-4402-ae31-3fbb90ce4338"
      },
      "source": [
        "# Regression --> mean absolute error\n",
        "from sklearn.metrics import mean_absolute_error\n",
        "print('Baseline MAE:') \n",
        "print(mean_absolute_error(y_train, [y_train.mean()]*len(y_train)))\n"
      ],
      "execution_count": null,
      "outputs": [
        {
          "output_type": "stream",
          "text": [
            "Baseline MAE:\n",
            "1.3895833333333334\n"
          ],
          "name": "stdout"
        }
      ]
    },
    {
      "cell_type": "markdown",
      "metadata": {
        "id": "-0k_GiLzfPdM",
        "colab_type": "text"
      },
      "source": [
        "#Build Model"
      ]
    },
    {
      "cell_type": "code",
      "metadata": {
        "id": "FSyeku1PfAhb",
        "colab_type": "code",
        "colab": {}
      },
      "source": [
        "model = make_pipeline(\n",
        "    OneHotEncoder(use_cat_names=True),\n",
        "    SelectKBest(k=6),\n",
        "    LinearRegression()  #LinearRegression()  RandomForestRegressor(random_state=42)\n",
        ")\n",
        "\n",
        "model.fit(X_train, y_train);"
      ],
      "execution_count": null,
      "outputs": []
    },
    {
      "cell_type": "code",
      "metadata": {
        "id": "I8XmQDxdfTrg",
        "colab_type": "code",
        "colab": {
          "base_uri": "https://localhost:8080/",
          "height": 54
        },
        "outputId": "fae5a68b-3d2a-4335-a07f-a3d993a129e4"
      },
      "source": [
        "print('Training MAE:', mean_absolute_error(y_train, model.predict(X_train)))\n",
        "print('Validation MAE:', mean_absolute_error(y_val, model.predict(X_val)))\n",
        "# print('Test MAE:', mean_absolute_error(y_test, model.predict(X_test)))"
      ],
      "execution_count": null,
      "outputs": [
        {
          "output_type": "stream",
          "text": [
            "Training MAE: 0.4461965981656473\n",
            "Validation MAE: 0.6765188439321287\n"
          ],
          "name": "stdout"
        }
      ]
    },
    {
      "cell_type": "code",
      "metadata": {
        "id": "E_WpyHQRsYwF",
        "colab_type": "code",
        "colab": {
          "base_uri": "https://localhost:8080/",
          "height": 54
        },
        "outputId": "f16ac268-ad2f-4058-af87-81d5c39b9058"
      },
      "source": [
        "\n",
        "from sklearn.metrics import r2_score\n",
        "\n",
        "\n",
        "print(\"Training R2:\", model.score(X_train, y_train))\n",
        "print(\"Validation R2:\", model.score(X_val, y_val))\n",
        "# print(\"Test R2:\", model.score(X_test, y_test))"
      ],
      "execution_count": null,
      "outputs": [
        {
          "output_type": "stream",
          "text": [
            "Training R2: 0.8902504396749649\n",
            "Validation R2: 0.07939026438538832\n"
          ],
          "name": "stdout"
        }
      ]
    },
    {
      "cell_type": "code",
      "metadata": {
        "id": "G-t38AFPobro",
        "colab_type": "code",
        "colab": {}
      },
      "source": [
        "model_rfr = make_pipeline(\n",
        "    OneHotEncoder(use_cat_names=True),\n",
        "    SimpleImputer(),\n",
        "    SelectKBest(k=6), # <-- Hyperparameter\n",
        "    RandomForestRegressor(n_estimators=10000, n_jobs=-1, random_state=42) # <-- max_depth, n_estimators\n",
        ")\n",
        "\n",
        "model_rfr.fit(X_train, y_train);"
      ],
      "execution_count": null,
      "outputs": []
    },
    {
      "cell_type": "code",
      "metadata": {
        "id": "DVe9-o8yo8uZ",
        "colab_type": "code",
        "colab": {
          "base_uri": "https://localhost:8080/",
          "height": 54
        },
        "outputId": "cf63335b-c604-4cc0-d5c8-3250a0566120"
      },
      "source": [
        "print('Training MAE:', mean_absolute_error(y_train, model_rfr.predict(X_train)))\n",
        "print('Validation MAE:', mean_absolute_error(y_val, model_rfr.predict(X_val)))\n",
        "# print('Test MAE:', mean_absolute_error(y_test, model_rfr.predict(X_test)))"
      ],
      "execution_count": null,
      "outputs": [
        {
          "output_type": "stream",
          "text": [
            "Training MAE: 0.07862385763891938\n",
            "Validation MAE: 0.6928530333332835\n"
          ],
          "name": "stdout"
        }
      ]
    },
    {
      "cell_type": "code",
      "metadata": {
        "id": "z24tkPvppO1_",
        "colab_type": "code",
        "colab": {}
      },
      "source": [
        "rfr_model = make_pipeline(\n",
        "    OneHotEncoder(use_cat_names=True),\n",
        "    SimpleImputer(strategy='mean'),\n",
        "    SelectKBest(k=8),\n",
        "    RandomForestRegressor(random_state=42)\n",
        ")\n",
        "# The ranges I want to test as dictionary\n",
        "params= {'randomforestregressor__n_estimators': range(50, 801, 50),\n",
        "         'randomforestregressor__max_depth': range(5, 501, 10)}\n",
        "\n",
        "# Create Grid Search\n",
        "gs = GridSearchCV(rfr_model,\n",
        "                  param_grid = params,\n",
        "                  n_jobs=-1,\n",
        "                  verbose=1, \n",
        "                  cv=10\n",
        ")"
      ],
      "execution_count": null,
      "outputs": []
    },
    {
      "cell_type": "code",
      "metadata": {
        "id": "23N53ND8pR9U",
        "colab_type": "code",
        "colab": {
          "base_uri": "https://localhost:8080/",
          "height": 295
        },
        "outputId": "455e86a3-7cc8-4ca1-f048-9bc4307722e0"
      },
      "source": [
        "gs.fit(X_train, y_train);"
      ],
      "execution_count": null,
      "outputs": [
        {
          "output_type": "stream",
          "text": [
            "Fitting 10 folds for each of 800 candidates, totalling 8000 fits\n"
          ],
          "name": "stdout"
        },
        {
          "output_type": "stream",
          "text": [
            "[Parallel(n_jobs=-1)]: Using backend LokyBackend with 2 concurrent workers.\n",
            "[Parallel(n_jobs=-1)]: Done  46 tasks      | elapsed:   12.5s\n",
            "[Parallel(n_jobs=-1)]: Done 196 tasks      | elapsed:  1.8min\n",
            "[Parallel(n_jobs=-1)]: Done 446 tasks      | elapsed:  4.7min\n",
            "[Parallel(n_jobs=-1)]: Done 796 tasks      | elapsed:  9.1min\n",
            "[Parallel(n_jobs=-1)]: Done 1246 tasks      | elapsed: 14.1min\n",
            "[Parallel(n_jobs=-1)]: Done 1796 tasks      | elapsed: 20.5min\n",
            "[Parallel(n_jobs=-1)]: Done 2446 tasks      | elapsed: 28.1min\n",
            "[Parallel(n_jobs=-1)]: Done 3196 tasks      | elapsed: 37.1min\n",
            "[Parallel(n_jobs=-1)]: Done 4046 tasks      | elapsed: 46.8min\n",
            "[Parallel(n_jobs=-1)]: Done 4996 tasks      | elapsed: 57.9min\n",
            "[Parallel(n_jobs=-1)]: Done 6046 tasks      | elapsed: 70.2min\n",
            "[Parallel(n_jobs=-1)]: Done 7196 tasks      | elapsed: 83.9min\n",
            "[Parallel(n_jobs=-1)]: Done 8000 out of 8000 | elapsed: 93.4min finished\n"
          ],
          "name": "stderr"
        }
      ]
    },
    {
      "cell_type": "code",
      "metadata": {
        "id": "tVEoOTMqpowN",
        "colab_type": "code",
        "colab": {
          "base_uri": "https://localhost:8080/",
          "height": 54
        },
        "outputId": "57caa71f-9e08-4558-982f-9a1bc1d0e85a"
      },
      "source": [
        "# # What are the best set of hyperparameters?\n",
        "gs.best_params_"
      ],
      "execution_count": null,
      "outputs": [
        {
          "output_type": "execute_result",
          "data": {
            "text/plain": [
              "{'randomforestregressor__max_depth': 5,\n",
              " 'randomforestregressor__n_estimators': 50}"
            ]
          },
          "metadata": {
            "tags": []
          },
          "execution_count": 30
        }
      ]
    },
    {
      "cell_type": "code",
      "metadata": {
        "id": "E5SwJY8OprJk",
        "colab_type": "code",
        "colab": {}
      },
      "source": [
        "# What if I want to save my best model?\n",
        "best_model = gs.best_estimator_"
      ],
      "execution_count": null,
      "outputs": []
    },
    {
      "cell_type": "code",
      "metadata": {
        "id": "y_sy5dyEptIf",
        "colab_type": "code",
        "colab": {
          "base_uri": "https://localhost:8080/",
          "height": 54
        },
        "outputId": "6c998f1e-c946-4fb6-bddc-58a9d20bf3be"
      },
      "source": [
        "print('Tuned training MAE:', mean_absolute_error(y_train, gs.predict(X_train)))\n",
        "print('Tuned validation MAE:', mean_absolute_error(y_val, gs.predict(X_val)))\n",
        "# print('Tuned test MAE:', mean_absolute_error(y_test, gs.predict(X_test)))"
      ],
      "execution_count": null,
      "outputs": [
        {
          "output_type": "stream",
          "text": [
            "Tuned training MAE: 0.15581883199217905\n",
            "Tuned validation MAE: 0.7373593393410331\n"
          ],
          "name": "stdout"
        }
      ]
    },
    {
      "cell_type": "code",
      "metadata": {
        "id": "2ggm4t8clUC9",
        "colab_type": "code",
        "colab": {
          "base_uri": "https://localhost:8080/",
          "height": 247
        },
        "outputId": "bc192794-e620-495c-f78f-8b5f62272f99"
      },
      "source": [
        "# # Multiple Linear Regression\n",
        "from sklearn.metrics import r2_score\n",
        "\n",
        "\n",
        "print(\"Training R2:\", model_1.score(X_train, y_train))\n",
        "print(\"Validation R2:\", model_1.score(X_val, y_val))\n",
        "# print(\"Test R2:\", model_1.score(X_test, y_test))"
      ],
      "execution_count": null,
      "outputs": [
        {
          "output_type": "error",
          "ename": "NameError",
          "evalue": "ignored",
          "traceback": [
            "\u001b[0;31m---------------------------------------------------------------------------\u001b[0m",
            "\u001b[0;31mNameError\u001b[0m                                 Traceback (most recent call last)",
            "\u001b[0;32m<ipython-input-33-eeb94eaa1c64>\u001b[0m in \u001b[0;36m<module>\u001b[0;34m()\u001b[0m\n\u001b[1;32m      3\u001b[0m \u001b[0;34m\u001b[0m\u001b[0m\n\u001b[1;32m      4\u001b[0m \u001b[0;34m\u001b[0m\u001b[0m\n\u001b[0;32m----> 5\u001b[0;31m \u001b[0mprint\u001b[0m\u001b[0;34m(\u001b[0m\u001b[0;34m\"Training R2:\"\u001b[0m\u001b[0;34m,\u001b[0m \u001b[0mmodel_1\u001b[0m\u001b[0;34m.\u001b[0m\u001b[0mscore\u001b[0m\u001b[0;34m(\u001b[0m\u001b[0mX_train\u001b[0m\u001b[0;34m,\u001b[0m \u001b[0my_train\u001b[0m\u001b[0;34m)\u001b[0m\u001b[0;34m)\u001b[0m\u001b[0;34m\u001b[0m\u001b[0;34m\u001b[0m\u001b[0m\n\u001b[0m\u001b[1;32m      6\u001b[0m \u001b[0mprint\u001b[0m\u001b[0;34m(\u001b[0m\u001b[0;34m\"Validation R2:\"\u001b[0m\u001b[0;34m,\u001b[0m \u001b[0mmodel_1\u001b[0m\u001b[0;34m.\u001b[0m\u001b[0mscore\u001b[0m\u001b[0;34m(\u001b[0m\u001b[0mX_val\u001b[0m\u001b[0;34m,\u001b[0m \u001b[0my_val\u001b[0m\u001b[0;34m)\u001b[0m\u001b[0;34m)\u001b[0m\u001b[0;34m\u001b[0m\u001b[0;34m\u001b[0m\u001b[0m\n\u001b[1;32m      7\u001b[0m \u001b[0;31m# print(\"Test R2:\", model_1.score(X_test, y_test))\u001b[0m\u001b[0;34m\u001b[0m\u001b[0;34m\u001b[0m\u001b[0;34m\u001b[0m\u001b[0m\n",
            "\u001b[0;31mNameError\u001b[0m: name 'model_1' is not defined"
          ]
        }
      ]
    },
    {
      "cell_type": "code",
      "metadata": {
        "id": "wTtFBz67jP6h",
        "colab_type": "code",
        "colab": {}
      },
      "source": [
        "from sklearn.datasets import make_classification\n",
        "from sklearn.ensemble import ExtraTreesClassifier"
      ],
      "execution_count": null,
      "outputs": []
    },
    {
      "cell_type": "code",
      "metadata": {
        "id": "CwyAl3hZjRXu",
        "colab_type": "code",
        "colab": {}
      },
      "source": [
        "X, y = make_classification(n_samples=1000,\n",
        "                           n_features=10,\n",
        "                           n_informative=3,\n",
        "                           n_redundant=0,\n",
        "                           n_repeated=0,\n",
        "                           n_classes=2,\n",
        "                           random_state=0,\n",
        "                           shuffle=False)"
      ],
      "execution_count": null,
      "outputs": []
    },
    {
      "cell_type": "code",
      "metadata": {
        "id": "1sgek60_jwmv",
        "colab_type": "code",
        "colab": {}
      },
      "source": [
        "forest = ExtraTreesClassifier(n_estimators=250,\n",
        "                              random_state=0)"
      ],
      "execution_count": null,
      "outputs": []
    },
    {
      "cell_type": "code",
      "metadata": {
        "id": "Rn1F9DLRjz2y",
        "colab_type": "code",
        "colab": {}
      },
      "source": [
        "# forest.fit(X, y)\n",
        "# importances = forest.feature_importances_\n",
        "# std = np.std([tree.feature_importances_ for tree in forest.estimators_],\n",
        "#              axis=0)\n",
        "# indices = np.argsort(importances)[::-1]"
      ],
      "execution_count": null,
      "outputs": []
    },
    {
      "cell_type": "code",
      "metadata": {
        "id": "J60b65NUj5CX",
        "colab_type": "code",
        "colab": {}
      },
      "source": [
        "# Print the feature ranking\n",
        "# print(\"Feature ranking:\")\n",
        "\n",
        "# for f in range(X.shape[1]):\n",
        "#     print(\"%d. feature %d (%f)\" % (f + 1, indices[f], importances[indices[f]]))\n",
        "\n",
        "# # Plot the impurity-based feature importances of the forest\n",
        "# plt.figure()\n",
        "# plt.title(\"Feature importances\")\n",
        "# plt.bar(range(X.shape[1]), importances[indices],\n",
        "#         color=\"r\", yerr=std[indices], align=\"center\")\n",
        "# plt.xticks(range(X.shape[1]), indices)\n",
        "# plt.xlim([-1, X.shape[1]])\n",
        "# plt.show()"
      ],
      "execution_count": null,
      "outputs": []
    },
    {
      "cell_type": "code",
      "metadata": {
        "id": "rnCBbp0zkUgq",
        "colab_type": "code",
        "colab": {}
      },
      "source": [
        "# plot feature importance using built-in function\n",
        "# from numpy import loadtxt\n",
        "# from xgboost import XGBRegressor\n",
        "# from xgboost import plot_importance\n",
        "\n",
        "# # fit model no training data\n",
        "# model = XGBRegressor()\n",
        "# model.fit(X, y)\n",
        "# # plot feature importance\n",
        "# plot_importance(model)\n",
        "# plt.show()"
      ],
      "execution_count": null,
      "outputs": []
    },
    {
      "cell_type": "code",
      "metadata": {
        "id": "wcxUn8OwkJzZ",
        "colab_type": "code",
        "colab": {}
      },
      "source": [
        ""
      ],
      "execution_count": null,
      "outputs": []
    }
  ]
}